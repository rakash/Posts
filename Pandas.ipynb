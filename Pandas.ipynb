{
 "cells": [
  {
   "cell_type": "markdown",
   "metadata": {},
   "source": [
    "[Series](#srs)\n",
    "\n",
    "[Dataframes](#dff)\n",
    "\n",
    "[Accessing and changing values of a dataframe](#acdf)\n",
    "\n",
    "[Datafiles and Binning](#dab)\n",
    "\n",
    "[Multilevel indexing](#mlm)\n",
    "\n",
    "[Data viz using pandas](#vizdp)\n",
    "\n",
    "[Datetime](#dta)"
   ]
  },
  {
   "cell_type": "markdown",
   "metadata": {},
   "source": [
    "<a id=\"srs\"></a>\n",
    "\n",
    "### Series"
   ]
  },
  {
   "cell_type": "code",
   "execution_count": 1,
   "metadata": {},
   "outputs": [
    {
     "data": {
      "text/plain": [
       "0    11\n",
       "1    28\n",
       "2    72\n",
       "3     3\n",
       "4     5\n",
       "5     8\n",
       "dtype: int64"
      ]
     },
     "execution_count": 1,
     "metadata": {},
     "output_type": "execute_result"
    }
   ],
   "source": [
    "import pandas as pd\n",
    "S = pd.Series([11, 28, 72, 3, 5, 8])\n",
    "S"
   ]
  },
  {
   "cell_type": "code",
   "execution_count": 2,
   "metadata": {},
   "outputs": [
    {
     "name": "stdout",
     "output_type": "stream",
     "text": [
      "RangeIndex(start=0, stop=6, step=1)\n",
      "[11 28 72  3  5  8]\n"
     ]
    }
   ],
   "source": [
    "print(S.index)\n",
    "print(S.values)"
   ]
  },
  {
   "cell_type": "code",
   "execution_count": 3,
   "metadata": {},
   "outputs": [
    {
     "name": "stdout",
     "output_type": "stream",
     "text": [
      "[11 28 72  3  5  8]\n",
      "[11 28 72  3  5  8]\n",
      "<class 'numpy.ndarray'> <class 'numpy.ndarray'>\n"
     ]
    }
   ],
   "source": [
    "# If we compare this to creating an array in numpy, we will find lots of similarities:\n",
    "\n",
    "import numpy as np\n",
    "X = np.array([11, 28, 72, 3, 5, 8])\n",
    "print(X)\n",
    "print(S.values)\n",
    "# both are the same type:\n",
    "print(type(S.values), type(X))"
   ]
  },
  {
   "cell_type": "code",
   "execution_count": 4,
   "metadata": {},
   "outputs": [
    {
     "name": "stdout",
     "output_type": "stream",
     "text": [
      "cherries       83.0\n",
      "oranges        46.0\n",
      "peaches         NaN\n",
      "pears          42.0\n",
      "raspberries     NaN\n",
      "dtype: float64\n"
     ]
    }
   ],
   "source": [
    "# index addition\n",
    "\n",
    "#The indices do not have to be the same for the Series addition. The index will be the \"union\" of both indices. If an index doesn't occur in both Series, the value for this Series will be NaN:\n",
    "\n",
    "fruits = ['peaches', 'oranges', 'cherries', 'pears']\n",
    "fruits2 = ['raspberries', 'oranges', 'cherries', 'pears']\n",
    "\n",
    "S = pd.Series([20, 33, 52, 10], index=fruits)\n",
    "S2 = pd.Series([17, 13, 31, 32], index=fruits2)\n",
    "print(S + S2)"
   ]
  },
  {
   "cell_type": "code",
   "execution_count": 5,
   "metadata": {},
   "outputs": [
    {
     "name": "stdout",
     "output_type": "stream",
     "text": [
      "apples       NaN\n",
      "oranges     33.0\n",
      "cherries    52.0\n",
      "dtype: float64\n"
     ]
    },
    {
     "name": "stderr",
     "output_type": "stream",
     "text": [
      "/home/akash/anaconda3/lib/python3.7/site-packages/pandas/core/series.py:951: FutureWarning: \n",
      "Passing list-likes to .loc or [] with any missing label will raise\n",
      "KeyError in the future, you can use .reindex() as an alternative.\n",
      "\n",
      "See the documentation here:\n",
      "https://pandas.pydata.org/pandas-docs/stable/indexing.html#deprecate-loc-reindex-listlike\n",
      "  return self.loc[key]\n"
     ]
    }
   ],
   "source": [
    "# indexing \n",
    "\n",
    "print(S[['apples', 'oranges', 'cherries']])"
   ]
  },
  {
   "cell_type": "code",
   "execution_count": 9,
   "metadata": {},
   "outputs": [
    {
     "name": "stdout",
     "output_type": "stream",
     "text": [
      "20\n"
     ]
    }
   ],
   "source": [
    "print(S['peaches'])"
   ]
  },
  {
   "cell_type": "code",
   "execution_count": null,
   "metadata": {},
   "outputs": [],
   "source": [
    "# Similar to numpy arrays, we can filter Pandas Series with a Boolean array:\n",
    "\n",
    "S[S>30]"
   ]
  },
  {
   "cell_type": "code",
   "execution_count": 10,
   "metadata": {},
   "outputs": [
    {
     "name": "stdout",
     "output_type": "stream",
     "text": [
      "London       8615246\n",
      "Berlin       3562166\n",
      "Madrid       3165235\n",
      "Rome         2874038\n",
      "Paris        2273305\n",
      "Vienna       1805681\n",
      "Bucharest    1803425\n",
      "Hamburg      1760433\n",
      "Budapest     1754000\n",
      "Warsaw       1740119\n",
      "Barcelona    1602386\n",
      "Munich       1493900\n",
      "Milan        1350680\n",
      "dtype: int64\n"
     ]
    }
   ],
   "source": [
    "# Creating Series Objects from Dictionaries\n",
    "# We can even use a dictionary to create a Series object. The resulting Series contains the dict's keys as the indices and the values as the values.\n",
    "\n",
    "cities = {\"London\":    8615246, \n",
    "          \"Berlin\":    3562166, \n",
    "          \"Madrid\":    3165235, \n",
    "          \"Rome\":      2874038, \n",
    "          \"Paris\":     2273305, \n",
    "          \"Vienna\":    1805681, \n",
    "          \"Bucharest\": 1803425, \n",
    "          \"Hamburg\":   1760433,\n",
    "          \"Budapest\":  1754000,\n",
    "          \"Warsaw\":    1740119,\n",
    "          \"Barcelona\": 1602386,\n",
    "          \"Munich\":    1493900,\n",
    "          \"Milan\":     1350680}\n",
    "\n",
    "city_series = pd.Series(cities)\n",
    "print(city_series)"
   ]
  },
  {
   "cell_type": "code",
   "execution_count": 11,
   "metadata": {},
   "outputs": [
    {
     "name": "stdout",
     "output_type": "stream",
     "text": [
      "London       False\n",
      "Paris        False\n",
      "Zurich        True\n",
      "Berlin       False\n",
      "Stuttgart     True\n",
      "Hamburg      False\n",
      "dtype: bool\n"
     ]
    }
   ],
   "source": [
    "## missing data\n",
    "\n",
    "# We can check for missing values with the methods isnull and notnull:\n",
    "\n",
    "my_cities = [\"London\", \"Paris\", \"Zurich\", \"Berlin\", \n",
    "             \"Stuttgart\", \"Hamburg\"]\n",
    "\n",
    "my_city_series = pd.Series(cities, \n",
    "                           index=my_cities)\n",
    "print(my_city_series.isnull())"
   ]
  },
  {
   "cell_type": "code",
   "execution_count": 12,
   "metadata": {},
   "outputs": [
    {
     "name": "stdout",
     "output_type": "stream",
     "text": [
      "London        True\n",
      "Paris         True\n",
      "Zurich       False\n",
      "Berlin        True\n",
      "Stuttgart    False\n",
      "Hamburg       True\n",
      "dtype: bool\n"
     ]
    }
   ],
   "source": [
    "print(my_city_series.notnull())"
   ]
  },
  {
   "cell_type": "code",
   "execution_count": 13,
   "metadata": {},
   "outputs": [
    {
     "name": "stdout",
     "output_type": "stream",
     "text": [
      "a    23.0\n",
      "b    45.0\n",
      "c     NaN\n",
      "d     0.0\n",
      "dtype: float64\n"
     ]
    }
   ],
   "source": [
    "# Connection between NaN and None\n",
    "# We get also a NaN, if a value in the dictionary has a None:\n",
    "\n",
    "d = {\"a\":23, \"b\":45, \"c\":None, \"d\":0}\n",
    "S = pd.Series(d)\n",
    "print(S)"
   ]
  },
  {
   "cell_type": "code",
   "execution_count": 14,
   "metadata": {},
   "outputs": [
    {
     "name": "stdout",
     "output_type": "stream",
     "text": [
      "London     8615246.0\n",
      "Paris      2273305.0\n",
      "Berlin     3562166.0\n",
      "Hamburg    1760433.0\n",
      "dtype: float64\n"
     ]
    }
   ],
   "source": [
    "# Filtering out Missing Data\n",
    "\n",
    "# It's possible to filter out missing data with the Series method dropna. It returns a Series which consists only of non-null data:\n",
    "\n",
    "print(my_city_series.dropna())"
   ]
  },
  {
   "cell_type": "code",
   "execution_count": 15,
   "metadata": {},
   "outputs": [
    {
     "name": "stdout",
     "output_type": "stream",
     "text": [
      "London       8615246.0\n",
      "Paris        2273305.0\n",
      "Zurich             0.0\n",
      "Berlin       3562166.0\n",
      "Stuttgart          0.0\n",
      "Hamburg      1760433.0\n",
      "dtype: float64\n"
     ]
    }
   ],
   "source": [
    "# Filling in Missing Data\n",
    "# In many cases you don't want to filter out missing data, but you want to fill in appropriate data for the empty gaps. A suitable method in many situations will be fillna:\n",
    "\n",
    "print(my_city_series.fillna(0))\n"
   ]
  },
  {
   "cell_type": "markdown",
   "metadata": {},
   "source": [
    "<a id=\"dff\"></a>\n",
    "    \n",
    "## Dataframes"
   ]
  },
  {
   "cell_type": "code",
   "execution_count": 17,
   "metadata": {},
   "outputs": [
    {
     "data": {
      "text/plain": [
       "2014    2409.14\n",
       "2015    2941.01\n",
       "2016    3496.83\n",
       "2017    3119.55\n",
       "2014    1203.45\n",
       "2015    3441.62\n",
       "2016    3007.83\n",
       "2017    3619.53\n",
       "2014    3412.12\n",
       "2015    3491.16\n",
       "2016    3457.19\n",
       "2017    1963.10\n",
       "dtype: float64"
      ]
     },
     "execution_count": 17,
     "metadata": {},
     "output_type": "execute_result"
    }
   ],
   "source": [
    "import pandas as pd\n",
    "\n",
    "years = range(2014, 2018)\n",
    "\n",
    "shop1 = pd.Series([2409.14, 2941.01, 3496.83, 3119.55], index=years)\n",
    "shop2 = pd.Series([1203.45, 3441.62, 3007.83, 3619.53], index=years)\n",
    "shop3 = pd.Series([3412.12, 3491.16, 3457.19, 1963.10], index=years)\n",
    "\n",
    "#What happens, if we concatenate these \"shop\" Series? Pandas provides a concat function for this purpose:\n",
    "\n",
    "pd.concat([shop1, shop2, shop3])"
   ]
  },
  {
   "cell_type": "code",
   "execution_count": 18,
   "metadata": {},
   "outputs": [
    {
     "data": {
      "text/html": [
       "<div>\n",
       "<style scoped>\n",
       "    .dataframe tbody tr th:only-of-type {\n",
       "        vertical-align: middle;\n",
       "    }\n",
       "\n",
       "    .dataframe tbody tr th {\n",
       "        vertical-align: top;\n",
       "    }\n",
       "\n",
       "    .dataframe thead th {\n",
       "        text-align: right;\n",
       "    }\n",
       "</style>\n",
       "<table border=\"1\" class=\"dataframe\">\n",
       "  <thead>\n",
       "    <tr style=\"text-align: right;\">\n",
       "      <th></th>\n",
       "      <th>0</th>\n",
       "      <th>1</th>\n",
       "      <th>2</th>\n",
       "    </tr>\n",
       "  </thead>\n",
       "  <tbody>\n",
       "    <tr>\n",
       "      <th>2014</th>\n",
       "      <td>2409.14</td>\n",
       "      <td>1203.45</td>\n",
       "      <td>3412.12</td>\n",
       "    </tr>\n",
       "    <tr>\n",
       "      <th>2015</th>\n",
       "      <td>2941.01</td>\n",
       "      <td>3441.62</td>\n",
       "      <td>3491.16</td>\n",
       "    </tr>\n",
       "    <tr>\n",
       "      <th>2016</th>\n",
       "      <td>3496.83</td>\n",
       "      <td>3007.83</td>\n",
       "      <td>3457.19</td>\n",
       "    </tr>\n",
       "    <tr>\n",
       "      <th>2017</th>\n",
       "      <td>3119.55</td>\n",
       "      <td>3619.53</td>\n",
       "      <td>1963.10</td>\n",
       "    </tr>\n",
       "  </tbody>\n",
       "</table>\n",
       "</div>"
      ],
      "text/plain": [
       "            0        1        2\n",
       "2014  2409.14  1203.45  3412.12\n",
       "2015  2941.01  3441.62  3491.16\n",
       "2016  3496.83  3007.83  3457.19\n",
       "2017  3119.55  3619.53  1963.10"
      ]
     },
     "execution_count": 18,
     "metadata": {},
     "output_type": "execute_result"
    }
   ],
   "source": [
    "# This result is not what we have intended or expected. The reason is that concat used 0 as the default for the axis parameter. Let's do it with \"axis=1\":\n",
    "\n",
    "shops_df = pd.concat([shop1, shop2, shop3], axis=1)\n",
    "shops_df"
   ]
  },
  {
   "cell_type": "code",
   "execution_count": 19,
   "metadata": {},
   "outputs": [
    {
     "name": "stdout",
     "output_type": "stream",
     "text": [
      "       Zürich  Winterthur  Freiburg\n",
      "2014  2409.14     1203.45   3412.12\n",
      "2015  2941.01     3441.62   3491.16\n",
      "2016  3496.83     3007.83   3457.19\n",
      "2017  3119.55     3619.53   1963.10\n",
      "------\n",
      "       Zürich  Winterthur  Freiburg\n",
      "2014  2409.14     1203.45   3412.12\n",
      "2015  2941.01     3441.62   3491.16\n",
      "2016  3496.83     3007.83   3457.19\n",
      "2017  3119.55     3619.53   1963.10\n"
     ]
    }
   ],
   "source": [
    "# Let's do some fine sanding by giving names to the columns:\n",
    "\n",
    "cities = [\"Zürich\", \"Winterthur\", \"Freiburg\"]\n",
    "shops_df.columns = cities \n",
    "print(shops_df)\n",
    "\n",
    "# alternative way: give names to series:\n",
    "shop1.name = \"Zürich\"\n",
    "shop2.name = \"Winterthur\"\n",
    "shop3.name = \"Freiburg\"\n",
    "\n",
    "print(\"------\")\n",
    "shops_df2 = pd.concat([shop1, shop2, shop3], axis=1)\n",
    "print(shops_df2)"
   ]
  },
  {
   "cell_type": "code",
   "execution_count": 20,
   "metadata": {},
   "outputs": [
    {
     "data": {
      "text/html": [
       "<div>\n",
       "<style scoped>\n",
       "    .dataframe tbody tr th:only-of-type {\n",
       "        vertical-align: middle;\n",
       "    }\n",
       "\n",
       "    .dataframe tbody tr th {\n",
       "        vertical-align: top;\n",
       "    }\n",
       "\n",
       "    .dataframe thead th {\n",
       "        text-align: right;\n",
       "    }\n",
       "</style>\n",
       "<table border=\"1\" class=\"dataframe\">\n",
       "  <thead>\n",
       "    <tr style=\"text-align: right;\">\n",
       "      <th></th>\n",
       "      <th>name</th>\n",
       "      <th>population</th>\n",
       "      <th>country</th>\n",
       "    </tr>\n",
       "  </thead>\n",
       "  <tbody>\n",
       "    <tr>\n",
       "      <th>0</th>\n",
       "      <td>London</td>\n",
       "      <td>8615246</td>\n",
       "      <td>England</td>\n",
       "    </tr>\n",
       "    <tr>\n",
       "      <th>1</th>\n",
       "      <td>Berlin</td>\n",
       "      <td>3562166</td>\n",
       "      <td>Germany</td>\n",
       "    </tr>\n",
       "    <tr>\n",
       "      <th>2</th>\n",
       "      <td>Madrid</td>\n",
       "      <td>3165235</td>\n",
       "      <td>Spain</td>\n",
       "    </tr>\n",
       "    <tr>\n",
       "      <th>3</th>\n",
       "      <td>Rome</td>\n",
       "      <td>2874038</td>\n",
       "      <td>Italy</td>\n",
       "    </tr>\n",
       "    <tr>\n",
       "      <th>4</th>\n",
       "      <td>Paris</td>\n",
       "      <td>2273305</td>\n",
       "      <td>France</td>\n",
       "    </tr>\n",
       "    <tr>\n",
       "      <th>5</th>\n",
       "      <td>Vienna</td>\n",
       "      <td>1805681</td>\n",
       "      <td>Austria</td>\n",
       "    </tr>\n",
       "    <tr>\n",
       "      <th>6</th>\n",
       "      <td>Bucharest</td>\n",
       "      <td>1803425</td>\n",
       "      <td>Romania</td>\n",
       "    </tr>\n",
       "    <tr>\n",
       "      <th>7</th>\n",
       "      <td>Hamburg</td>\n",
       "      <td>1760433</td>\n",
       "      <td>Germany</td>\n",
       "    </tr>\n",
       "    <tr>\n",
       "      <th>8</th>\n",
       "      <td>Budapest</td>\n",
       "      <td>1754000</td>\n",
       "      <td>Hungary</td>\n",
       "    </tr>\n",
       "    <tr>\n",
       "      <th>9</th>\n",
       "      <td>Warsaw</td>\n",
       "      <td>1740119</td>\n",
       "      <td>Poland</td>\n",
       "    </tr>\n",
       "    <tr>\n",
       "      <th>10</th>\n",
       "      <td>Barcelona</td>\n",
       "      <td>1602386</td>\n",
       "      <td>Spain</td>\n",
       "    </tr>\n",
       "    <tr>\n",
       "      <th>11</th>\n",
       "      <td>Munich</td>\n",
       "      <td>1493900</td>\n",
       "      <td>Germany</td>\n",
       "    </tr>\n",
       "    <tr>\n",
       "      <th>12</th>\n",
       "      <td>Milan</td>\n",
       "      <td>1350680</td>\n",
       "      <td>Italy</td>\n",
       "    </tr>\n",
       "  </tbody>\n",
       "</table>\n",
       "</div>"
      ],
      "text/plain": [
       "         name  population  country\n",
       "0      London     8615246  England\n",
       "1      Berlin     3562166  Germany\n",
       "2      Madrid     3165235    Spain\n",
       "3        Rome     2874038    Italy\n",
       "4       Paris     2273305   France\n",
       "5      Vienna     1805681  Austria\n",
       "6   Bucharest     1803425  Romania\n",
       "7     Hamburg     1760433  Germany\n",
       "8    Budapest     1754000  Hungary\n",
       "9      Warsaw     1740119   Poland\n",
       "10  Barcelona     1602386    Spain\n",
       "11     Munich     1493900  Germany\n",
       "12      Milan     1350680    Italy"
      ]
     },
     "execution_count": 20,
     "metadata": {},
     "output_type": "execute_result"
    }
   ],
   "source": [
    "# DataFrames from Dictionaries\n",
    "# A DataFrame has a row and column index; it's like a dict of Series with a common index.\n",
    "\n",
    "cities = {\"name\": [\"London\", \"Berlin\", \"Madrid\", \"Rome\", \n",
    "                   \"Paris\", \"Vienna\", \"Bucharest\", \"Hamburg\", \n",
    "                   \"Budapest\", \"Warsaw\", \"Barcelona\", \n",
    "                   \"Munich\", \"Milan\"],\n",
    "          \"population\": [8615246, 3562166, 3165235, 2874038,\n",
    "                         2273305, 1805681, 1803425, 1760433,\n",
    "                         1754000, 1740119, 1602386, 1493900,\n",
    "                         1350680],\n",
    "          \"country\": [\"England\", \"Germany\", \"Spain\", \"Italy\",\n",
    "                      \"France\", \"Austria\", \"Romania\", \n",
    "                      \"Germany\", \"Hungary\", \"Poland\", \"Spain\",\n",
    "                      \"Germany\", \"Italy\"]}\n",
    "\n",
    "city_frame = pd.DataFrame(cities)\n",
    "city_frame"
   ]
  },
  {
   "cell_type": "code",
   "execution_count": 21,
   "metadata": {},
   "outputs": [
    {
     "data": {
      "text/html": [
       "<div>\n",
       "<style scoped>\n",
       "    .dataframe tbody tr th:only-of-type {\n",
       "        vertical-align: middle;\n",
       "    }\n",
       "\n",
       "    .dataframe tbody tr th {\n",
       "        vertical-align: top;\n",
       "    }\n",
       "\n",
       "    .dataframe thead th {\n",
       "        text-align: right;\n",
       "    }\n",
       "</style>\n",
       "<table border=\"1\" class=\"dataframe\">\n",
       "  <thead>\n",
       "    <tr style=\"text-align: right;\">\n",
       "      <th></th>\n",
       "      <th>name</th>\n",
       "      <th>population</th>\n",
       "      <th>country</th>\n",
       "    </tr>\n",
       "  </thead>\n",
       "  <tbody>\n",
       "    <tr>\n",
       "      <th>first</th>\n",
       "      <td>London</td>\n",
       "      <td>8615246</td>\n",
       "      <td>England</td>\n",
       "    </tr>\n",
       "    <tr>\n",
       "      <th>second</th>\n",
       "      <td>Berlin</td>\n",
       "      <td>3562166</td>\n",
       "      <td>Germany</td>\n",
       "    </tr>\n",
       "    <tr>\n",
       "      <th>third</th>\n",
       "      <td>Madrid</td>\n",
       "      <td>3165235</td>\n",
       "      <td>Spain</td>\n",
       "    </tr>\n",
       "    <tr>\n",
       "      <th>fourth</th>\n",
       "      <td>Rome</td>\n",
       "      <td>2874038</td>\n",
       "      <td>Italy</td>\n",
       "    </tr>\n",
       "    <tr>\n",
       "      <th>fifth</th>\n",
       "      <td>Paris</td>\n",
       "      <td>2273305</td>\n",
       "      <td>France</td>\n",
       "    </tr>\n",
       "    <tr>\n",
       "      <th>sixth</th>\n",
       "      <td>Vienna</td>\n",
       "      <td>1805681</td>\n",
       "      <td>Austria</td>\n",
       "    </tr>\n",
       "    <tr>\n",
       "      <th>seventh</th>\n",
       "      <td>Bucharest</td>\n",
       "      <td>1803425</td>\n",
       "      <td>Romania</td>\n",
       "    </tr>\n",
       "    <tr>\n",
       "      <th>eigth</th>\n",
       "      <td>Hamburg</td>\n",
       "      <td>1760433</td>\n",
       "      <td>Germany</td>\n",
       "    </tr>\n",
       "    <tr>\n",
       "      <th>ninth</th>\n",
       "      <td>Budapest</td>\n",
       "      <td>1754000</td>\n",
       "      <td>Hungary</td>\n",
       "    </tr>\n",
       "    <tr>\n",
       "      <th>tenth</th>\n",
       "      <td>Warsaw</td>\n",
       "      <td>1740119</td>\n",
       "      <td>Poland</td>\n",
       "    </tr>\n",
       "    <tr>\n",
       "      <th>eleventh</th>\n",
       "      <td>Barcelona</td>\n",
       "      <td>1602386</td>\n",
       "      <td>Spain</td>\n",
       "    </tr>\n",
       "    <tr>\n",
       "      <th>twelvth</th>\n",
       "      <td>Munich</td>\n",
       "      <td>1493900</td>\n",
       "      <td>Germany</td>\n",
       "    </tr>\n",
       "    <tr>\n",
       "      <th>thirteenth</th>\n",
       "      <td>Milan</td>\n",
       "      <td>1350680</td>\n",
       "      <td>Italy</td>\n",
       "    </tr>\n",
       "  </tbody>\n",
       "</table>\n",
       "</div>"
      ],
      "text/plain": [
       "                 name  population  country\n",
       "first          London     8615246  England\n",
       "second         Berlin     3562166  Germany\n",
       "third          Madrid     3165235    Spain\n",
       "fourth           Rome     2874038    Italy\n",
       "fifth           Paris     2273305   France\n",
       "sixth          Vienna     1805681  Austria\n",
       "seventh     Bucharest     1803425  Romania\n",
       "eigth         Hamburg     1760433  Germany\n",
       "ninth        Budapest     1754000  Hungary\n",
       "tenth          Warsaw     1740119   Poland\n",
       "eleventh    Barcelona     1602386    Spain\n",
       "twelvth        Munich     1493900  Germany\n",
       "thirteenth      Milan     1350680    Italy"
      ]
     },
     "execution_count": 21,
     "metadata": {},
     "output_type": "execute_result"
    }
   ],
   "source": [
    "# custom index\n",
    "\n",
    "# We can see that an index (0,1,2, ...) has been automatically assigned to the DataFrame. We can also assign a custom index to the DataFrame object:\n",
    "\n",
    "ordinals = [\"first\", \"second\", \"third\", \"fourth\",\n",
    "            \"fifth\", \"sixth\", \"seventh\", \"eigth\",\n",
    "            \"ninth\", \"tenth\", \"eleventh\", \"twelvth\",\n",
    "            \"thirteenth\"]\n",
    "city_frame = pd.DataFrame(cities, index=ordinals)\n",
    "city_frame"
   ]
  },
  {
   "cell_type": "code",
   "execution_count": 22,
   "metadata": {},
   "outputs": [
    {
     "data": {
      "text/html": [
       "<div>\n",
       "<style scoped>\n",
       "    .dataframe tbody tr th:only-of-type {\n",
       "        vertical-align: middle;\n",
       "    }\n",
       "\n",
       "    .dataframe tbody tr th {\n",
       "        vertical-align: top;\n",
       "    }\n",
       "\n",
       "    .dataframe thead th {\n",
       "        text-align: right;\n",
       "    }\n",
       "</style>\n",
       "<table border=\"1\" class=\"dataframe\">\n",
       "  <thead>\n",
       "    <tr style=\"text-align: right;\">\n",
       "      <th></th>\n",
       "      <th>name</th>\n",
       "      <th>country</th>\n",
       "      <th>population</th>\n",
       "    </tr>\n",
       "  </thead>\n",
       "  <tbody>\n",
       "    <tr>\n",
       "      <th>0</th>\n",
       "      <td>London</td>\n",
       "      <td>England</td>\n",
       "      <td>8615246</td>\n",
       "    </tr>\n",
       "    <tr>\n",
       "      <th>1</th>\n",
       "      <td>Berlin</td>\n",
       "      <td>Germany</td>\n",
       "      <td>3562166</td>\n",
       "    </tr>\n",
       "    <tr>\n",
       "      <th>2</th>\n",
       "      <td>Madrid</td>\n",
       "      <td>Spain</td>\n",
       "      <td>3165235</td>\n",
       "    </tr>\n",
       "    <tr>\n",
       "      <th>3</th>\n",
       "      <td>Rome</td>\n",
       "      <td>Italy</td>\n",
       "      <td>2874038</td>\n",
       "    </tr>\n",
       "    <tr>\n",
       "      <th>4</th>\n",
       "      <td>Paris</td>\n",
       "      <td>France</td>\n",
       "      <td>2273305</td>\n",
       "    </tr>\n",
       "    <tr>\n",
       "      <th>5</th>\n",
       "      <td>Vienna</td>\n",
       "      <td>Austria</td>\n",
       "      <td>1805681</td>\n",
       "    </tr>\n",
       "    <tr>\n",
       "      <th>6</th>\n",
       "      <td>Bucharest</td>\n",
       "      <td>Romania</td>\n",
       "      <td>1803425</td>\n",
       "    </tr>\n",
       "    <tr>\n",
       "      <th>7</th>\n",
       "      <td>Hamburg</td>\n",
       "      <td>Germany</td>\n",
       "      <td>1760433</td>\n",
       "    </tr>\n",
       "    <tr>\n",
       "      <th>8</th>\n",
       "      <td>Budapest</td>\n",
       "      <td>Hungary</td>\n",
       "      <td>1754000</td>\n",
       "    </tr>\n",
       "    <tr>\n",
       "      <th>9</th>\n",
       "      <td>Warsaw</td>\n",
       "      <td>Poland</td>\n",
       "      <td>1740119</td>\n",
       "    </tr>\n",
       "    <tr>\n",
       "      <th>10</th>\n",
       "      <td>Barcelona</td>\n",
       "      <td>Spain</td>\n",
       "      <td>1602386</td>\n",
       "    </tr>\n",
       "    <tr>\n",
       "      <th>11</th>\n",
       "      <td>Munich</td>\n",
       "      <td>Germany</td>\n",
       "      <td>1493900</td>\n",
       "    </tr>\n",
       "    <tr>\n",
       "      <th>12</th>\n",
       "      <td>Milan</td>\n",
       "      <td>Italy</td>\n",
       "      <td>1350680</td>\n",
       "    </tr>\n",
       "  </tbody>\n",
       "</table>\n",
       "</div>"
      ],
      "text/plain": [
       "         name  country  population\n",
       "0      London  England     8615246\n",
       "1      Berlin  Germany     3562166\n",
       "2      Madrid    Spain     3165235\n",
       "3        Rome    Italy     2874038\n",
       "4       Paris   France     2273305\n",
       "5      Vienna  Austria     1805681\n",
       "6   Bucharest  Romania     1803425\n",
       "7     Hamburg  Germany     1760433\n",
       "8    Budapest  Hungary     1754000\n",
       "9      Warsaw   Poland     1740119\n",
       "10  Barcelona    Spain     1602386\n",
       "11     Munich  Germany     1493900\n",
       "12      Milan    Italy     1350680"
      ]
     },
     "execution_count": 22,
     "metadata": {},
     "output_type": "execute_result"
    }
   ],
   "source": [
    "# Rearranging the Order of Columns\n",
    "# We can also define and rearrange the order of the columns at the time of creation of the DataFrame. This makes also sure that we will have a defined ordering of our columns, if we create the DataFrame from a dictionary. Dictionaries are not ordered, as you have seen in our chapter on Dictionaries in our Python tutorial, so we cannot know in advance what the ordering of our columns will be:\n",
    "\n",
    "city_frame = pd.DataFrame(cities,\n",
    "                          columns=[\"name\", \n",
    "                                   \"country\", \n",
    "                                   \"population\"])\n",
    "city_frame"
   ]
  },
  {
   "cell_type": "code",
   "execution_count": 23,
   "metadata": {},
   "outputs": [
    {
     "data": {
      "text/html": [
       "<div>\n",
       "<style scoped>\n",
       "    .dataframe tbody tr th:only-of-type {\n",
       "        vertical-align: middle;\n",
       "    }\n",
       "\n",
       "    .dataframe tbody tr th {\n",
       "        vertical-align: top;\n",
       "    }\n",
       "\n",
       "    .dataframe thead th {\n",
       "        text-align: right;\n",
       "    }\n",
       "</style>\n",
       "<table border=\"1\" class=\"dataframe\">\n",
       "  <thead>\n",
       "    <tr style=\"text-align: right;\">\n",
       "      <th></th>\n",
       "      <th>Soyadı</th>\n",
       "      <th>Ülke</th>\n",
       "      <th>Nüfus</th>\n",
       "    </tr>\n",
       "  </thead>\n",
       "  <tbody>\n",
       "    <tr>\n",
       "      <th>0</th>\n",
       "      <td>London</td>\n",
       "      <td>England</td>\n",
       "      <td>8615246</td>\n",
       "    </tr>\n",
       "    <tr>\n",
       "      <th>1</th>\n",
       "      <td>Berlin</td>\n",
       "      <td>Germany</td>\n",
       "      <td>3562166</td>\n",
       "    </tr>\n",
       "    <tr>\n",
       "      <th>2</th>\n",
       "      <td>Madrid</td>\n",
       "      <td>Spain</td>\n",
       "      <td>3165235</td>\n",
       "    </tr>\n",
       "    <tr>\n",
       "      <th>3</th>\n",
       "      <td>Rome</td>\n",
       "      <td>Italy</td>\n",
       "      <td>2874038</td>\n",
       "    </tr>\n",
       "    <tr>\n",
       "      <th>4</th>\n",
       "      <td>Paris</td>\n",
       "      <td>France</td>\n",
       "      <td>2273305</td>\n",
       "    </tr>\n",
       "    <tr>\n",
       "      <th>5</th>\n",
       "      <td>Vienna</td>\n",
       "      <td>Austria</td>\n",
       "      <td>1805681</td>\n",
       "    </tr>\n",
       "    <tr>\n",
       "      <th>6</th>\n",
       "      <td>Bucharest</td>\n",
       "      <td>Romania</td>\n",
       "      <td>1803425</td>\n",
       "    </tr>\n",
       "    <tr>\n",
       "      <th>7</th>\n",
       "      <td>Hamburg</td>\n",
       "      <td>Germany</td>\n",
       "      <td>1760433</td>\n",
       "    </tr>\n",
       "    <tr>\n",
       "      <th>8</th>\n",
       "      <td>Budapest</td>\n",
       "      <td>Hungary</td>\n",
       "      <td>1754000</td>\n",
       "    </tr>\n",
       "    <tr>\n",
       "      <th>9</th>\n",
       "      <td>Warsaw</td>\n",
       "      <td>Poland</td>\n",
       "      <td>1740119</td>\n",
       "    </tr>\n",
       "    <tr>\n",
       "      <th>10</th>\n",
       "      <td>Barcelona</td>\n",
       "      <td>Spain</td>\n",
       "      <td>1602386</td>\n",
       "    </tr>\n",
       "    <tr>\n",
       "      <th>11</th>\n",
       "      <td>Munich</td>\n",
       "      <td>Germany</td>\n",
       "      <td>1493900</td>\n",
       "    </tr>\n",
       "    <tr>\n",
       "      <th>12</th>\n",
       "      <td>Milan</td>\n",
       "      <td>Italy</td>\n",
       "      <td>1350680</td>\n",
       "    </tr>\n",
       "  </tbody>\n",
       "</table>\n",
       "</div>"
      ],
      "text/plain": [
       "       Soyadı     Ülke    Nüfus\n",
       "0      London  England  8615246\n",
       "1      Berlin  Germany  3562166\n",
       "2      Madrid    Spain  3165235\n",
       "3        Rome    Italy  2874038\n",
       "4       Paris   France  2273305\n",
       "5      Vienna  Austria  1805681\n",
       "6   Bucharest  Romania  1803425\n",
       "7     Hamburg  Germany  1760433\n",
       "8    Budapest  Hungary  1754000\n",
       "9      Warsaw   Poland  1740119\n",
       "10  Barcelona    Spain  1602386\n",
       "11     Munich  Germany  1493900\n",
       "12      Milan    Italy  1350680"
      ]
     },
     "execution_count": 23,
     "metadata": {},
     "output_type": "execute_result"
    }
   ],
   "source": [
    "city_frame.rename(columns={\"name\":\"Soyadı\", \n",
    "                           \"country\":\"Ülke\", \n",
    "                           \"population\":\"Nüfus\"},\n",
    "                 inplace=True)\n",
    "city_frame"
   ]
  },
  {
   "cell_type": "code",
   "execution_count": 25,
   "metadata": {},
   "outputs": [
    {
     "name": "stdout",
     "output_type": "stream",
     "text": [
      "            name  population\n",
      "Germany   Berlin     3562166\n",
      "Germany  Hamburg     1760433\n",
      "Germany   Munich     1493900\n"
     ]
    }
   ],
   "source": [
    "# Label-Indexing on the Rows\n",
    "# So far we have indexed DataFrames via the columns. We will demonstrate now, how we can access rows from DataFrames via the locators 'loc' and 'iloc'. ('ix' is deprecated and will be removed in the future)\n",
    "\n",
    "city_frame = pd.DataFrame(cities, \n",
    "                          columns=(\"name\", \"population\"), \n",
    "                          index=cities[\"country\"])\n",
    "print(city_frame.loc[\"Germany\"])"
   ]
  },
  {
   "cell_type": "code",
   "execution_count": 26,
   "metadata": {},
   "outputs": [
    {
     "data": {
      "text/html": [
       "<div>\n",
       "<style scoped>\n",
       "    .dataframe tbody tr th:only-of-type {\n",
       "        vertical-align: middle;\n",
       "    }\n",
       "\n",
       "    .dataframe tbody tr th {\n",
       "        vertical-align: top;\n",
       "    }\n",
       "\n",
       "    .dataframe thead th {\n",
       "        text-align: right;\n",
       "    }\n",
       "</style>\n",
       "<table border=\"1\" class=\"dataframe\">\n",
       "  <thead>\n",
       "    <tr style=\"text-align: right;\">\n",
       "      <th></th>\n",
       "      <th>name</th>\n",
       "      <th>population</th>\n",
       "    </tr>\n",
       "  </thead>\n",
       "  <tbody>\n",
       "    <tr>\n",
       "      <th>England</th>\n",
       "      <td>London</td>\n",
       "      <td>8615246</td>\n",
       "    </tr>\n",
       "    <tr>\n",
       "      <th>Germany</th>\n",
       "      <td>Berlin</td>\n",
       "      <td>3562166</td>\n",
       "    </tr>\n",
       "    <tr>\n",
       "      <th>Spain</th>\n",
       "      <td>Madrid</td>\n",
       "      <td>3165235</td>\n",
       "    </tr>\n",
       "    <tr>\n",
       "      <th>Italy</th>\n",
       "      <td>Rome</td>\n",
       "      <td>2874038</td>\n",
       "    </tr>\n",
       "    <tr>\n",
       "      <th>France</th>\n",
       "      <td>Paris</td>\n",
       "      <td>2273305</td>\n",
       "    </tr>\n",
       "    <tr>\n",
       "      <th>Austria</th>\n",
       "      <td>Vienna</td>\n",
       "      <td>1805681</td>\n",
       "    </tr>\n",
       "    <tr>\n",
       "      <th>Romania</th>\n",
       "      <td>Bucharest</td>\n",
       "      <td>1803425</td>\n",
       "    </tr>\n",
       "    <tr>\n",
       "      <th>Germany</th>\n",
       "      <td>Hamburg</td>\n",
       "      <td>1760433</td>\n",
       "    </tr>\n",
       "    <tr>\n",
       "      <th>Hungary</th>\n",
       "      <td>Budapest</td>\n",
       "      <td>1754000</td>\n",
       "    </tr>\n",
       "    <tr>\n",
       "      <th>Poland</th>\n",
       "      <td>Warsaw</td>\n",
       "      <td>1740119</td>\n",
       "    </tr>\n",
       "    <tr>\n",
       "      <th>Spain</th>\n",
       "      <td>Barcelona</td>\n",
       "      <td>1602386</td>\n",
       "    </tr>\n",
       "    <tr>\n",
       "      <th>Germany</th>\n",
       "      <td>Munich</td>\n",
       "      <td>1493900</td>\n",
       "    </tr>\n",
       "    <tr>\n",
       "      <th>Italy</th>\n",
       "      <td>Milan</td>\n",
       "      <td>1350680</td>\n",
       "    </tr>\n",
       "  </tbody>\n",
       "</table>\n",
       "</div>"
      ],
      "text/plain": [
       "              name  population\n",
       "England     London     8615246\n",
       "Germany     Berlin     3562166\n",
       "Spain       Madrid     3165235\n",
       "Italy         Rome     2874038\n",
       "France       Paris     2273305\n",
       "Austria     Vienna     1805681\n",
       "Romania  Bucharest     1803425\n",
       "Germany    Hamburg     1760433\n",
       "Hungary   Budapest     1754000\n",
       "Poland      Warsaw     1740119\n",
       "Spain    Barcelona     1602386\n",
       "Germany     Munich     1493900\n",
       "Italy        Milan     1350680"
      ]
     },
     "execution_count": 26,
     "metadata": {},
     "output_type": "execute_result"
    }
   ],
   "source": [
    "# Existing Column as the Index of a DataFrame\n",
    "# We want to create a more useful index in the following example. We will use the country name as the index, i.e. the list value associated to the key \"country\" of our cities dictionary:\n",
    "\n",
    "city_frame = pd.DataFrame(cities,\n",
    "                          columns=[\"name\", \"population\"],\n",
    "                          index=cities[\"country\"])\n",
    "\n",
    "city_frame"
   ]
  },
  {
   "cell_type": "code",
   "execution_count": 27,
   "metadata": {},
   "outputs": [
    {
     "name": "stdout",
     "output_type": "stream",
     "text": [
      "name          LondonBerlinMadridRomeParisViennaBucharestHamb...\n",
      "population                                             33800614\n",
      "dtype: object\n",
      "England     8615246\n",
      "Germany    12177412\n",
      "Spain      15342647\n",
      "Italy      18216685\n",
      "France     20489990\n",
      "Austria    22295671\n",
      "Romania    24099096\n",
      "Germany    25859529\n",
      "Hungary    27613529\n",
      "Poland     29353648\n",
      "Spain      30956034\n",
      "Germany    32449934\n",
      "Italy      33800614\n",
      "Name: population, dtype: int64\n"
     ]
    }
   ],
   "source": [
    "# Sum and Cumulative Sum\n",
    "# We can calculate the sum of all the columns of a DataFrame or the sum of certain columns:\n",
    "\n",
    "print(city_frame.sum())\n",
    "\n",
    "# We can use \"cumsum\" to calculate the cumulative sum:\n",
    "\n",
    "x = city_frame[\"population\"].cumsum()\n",
    "print(x)"
   ]
  },
  {
   "cell_type": "code",
   "execution_count": 28,
   "metadata": {},
   "outputs": [
    {
     "name": "stdout",
     "output_type": "stream",
     "text": [
      "              name  population\n",
      "England     London     8615246\n",
      "Germany     Berlin    12177412\n",
      "Spain       Madrid    15342647\n",
      "Italy         Rome    18216685\n",
      "France       Paris    20489990\n",
      "Austria     Vienna    22295671\n",
      "Romania  Bucharest    24099096\n",
      "Germany    Hamburg    25859529\n",
      "Hungary   Budapest    27613529\n",
      "Poland      Warsaw    29353648\n",
      "Spain    Barcelona    30956034\n",
      "Germany     Munich    32449934\n",
      "Italy        Milan    33800614\n"
     ]
    }
   ],
   "source": [
    "# Assigning New Values to Columns\n",
    "# x is a Pandas Series. We can reassign the previously calculated cumulative sums to the population column:\n",
    "\n",
    "city_frame[\"population\"] = x\n",
    "print(city_frame)"
   ]
  },
  {
   "cell_type": "code",
   "execution_count": 29,
   "metadata": {},
   "outputs": [
    {
     "name": "stdout",
     "output_type": "stream",
     "text": [
      "              name  population  area\n",
      "England     London     8615246  1572\n",
      "Germany     Berlin    12177412  1572\n",
      "Spain       Madrid    15342647  1572\n",
      "Italy         Rome    18216685  1572\n",
      "France       Paris    20489990  1572\n",
      "Austria     Vienna    22295671  1572\n",
      "Romania  Bucharest    24099096  1572\n",
      "Germany    Hamburg    25859529  1572\n",
      "Hungary   Budapest    27613529  1572\n",
      "Poland      Warsaw    29353648  1572\n",
      "Spain    Barcelona    30956034  1572\n",
      "Germany     Munich    32449934  1572\n",
      "Italy        Milan    33800614  1572\n"
     ]
    }
   ],
   "source": [
    "# Assigning New Values to a Column\n",
    "# The column area is still not defined. We can set all elements of the column to the same value:\n",
    "\n",
    "city_frame[\"area\"] = 1572\n",
    "print(city_frame)"
   ]
  },
  {
   "cell_type": "code",
   "execution_count": 30,
   "metadata": {},
   "outputs": [
    {
     "name": "stdout",
     "output_type": "stream",
     "text": [
      "              name  population  area\n",
      "England     London     8615246  1572\n",
      "Germany     Berlin    12177412  1572\n",
      "Spain       Madrid    15342647  1572\n",
      "Italy         Rome    18216685  1572\n",
      "France       Paris    20489990  1572\n",
      "Austria     Vienna    22295671  1572\n",
      "Romania  Bucharest    24099096  1572\n",
      "Germany    Hamburg    25859529  1572\n",
      "Hungary   Budapest    27613529  1572\n",
      "Poland      Warsaw    29353648  1572\n",
      "Spain    Barcelona    30956034  1572\n",
      "Germany     Munich    32449934  1572\n",
      "Italy        Milan    33800614  1572\n"
     ]
    }
   ],
   "source": [
    "# Sorting DataFrames\n",
    "\n",
    "# Let's sort our DataFrame according to the city area:\n",
    "\n",
    "city_frame = city_frame.sort_values(by=\"area\", ascending=False)\n",
    "print(city_frame)"
   ]
  },
  {
   "cell_type": "code",
   "execution_count": 35,
   "metadata": {},
   "outputs": [
    {
     "name": "stdout",
     "output_type": "stream",
     "text": [
      "           country    area  population\n",
      "London     England  1572.0     8615246\n",
      "Berlin     Germany     NaN     3562166\n",
      "Madrid       Spain     NaN     3165235\n",
      "Rome         Italy     NaN     2874038\n",
      "Paris       France     NaN     2273305\n",
      "Vienna     Austria     NaN     1805681\n",
      "Bucharest  Romania     NaN     1803425\n",
      "Hamburg    Germany   755.0     1760433\n",
      "Budapest   Hungary     NaN     1754000\n",
      "Warsaw      Poland     NaN     1740119\n",
      "Barcelona    Spain     NaN     1602386\n",
      "Munich     Germany     NaN     1493900\n",
      "Milan        Italy   181.8     1350680\n"
     ]
    }
   ],
   "source": [
    "## inserting new column to existing \n",
    "\n",
    "city_frame = pd.DataFrame(cities,\n",
    "                          columns=[\"country\", \n",
    "                                   \"area\",\n",
    "                                   \"population\"],\n",
    "                          index=cities[\"name\"])\n",
    "\n",
    "some_areas = pd.Series([1572, 755, 181.8], \n",
    "                    index=['London', 'Hamburg', 'Milan'])\n",
    "\n",
    "city_frame['area'] = some_areas\n",
    "\n",
    "print(city_frame)"
   ]
  },
  {
   "cell_type": "code",
   "execution_count": 36,
   "metadata": {},
   "outputs": [
    {
     "data": {
      "text/html": [
       "<div>\n",
       "<style scoped>\n",
       "    .dataframe tbody tr th:only-of-type {\n",
       "        vertical-align: middle;\n",
       "    }\n",
       "\n",
       "    .dataframe tbody tr th {\n",
       "        vertical-align: top;\n",
       "    }\n",
       "\n",
       "    .dataframe thead th {\n",
       "        text-align: right;\n",
       "    }\n",
       "</style>\n",
       "<table border=\"1\" class=\"dataframe\">\n",
       "  <thead>\n",
       "    <tr style=\"text-align: right;\">\n",
       "      <th></th>\n",
       "      <th>Switzerland</th>\n",
       "      <th>Germany</th>\n",
       "      <th>France</th>\n",
       "      <th>Greece</th>\n",
       "      <th>Italy</th>\n",
       "    </tr>\n",
       "  </thead>\n",
       "  <tbody>\n",
       "    <tr>\n",
       "      <th>2010</th>\n",
       "      <td>3.0</td>\n",
       "      <td>4.1</td>\n",
       "      <td>2.0</td>\n",
       "      <td>-5.4</td>\n",
       "      <td>1.7</td>\n",
       "    </tr>\n",
       "    <tr>\n",
       "      <th>2011</th>\n",
       "      <td>1.8</td>\n",
       "      <td>3.6</td>\n",
       "      <td>2.1</td>\n",
       "      <td>-8.9</td>\n",
       "      <td>0.6</td>\n",
       "    </tr>\n",
       "    <tr>\n",
       "      <th>2012</th>\n",
       "      <td>1.1</td>\n",
       "      <td>0.4</td>\n",
       "      <td>0.3</td>\n",
       "      <td>-6.6</td>\n",
       "      <td>-2.3</td>\n",
       "    </tr>\n",
       "    <tr>\n",
       "      <th>2013</th>\n",
       "      <td>1.9</td>\n",
       "      <td>0.1</td>\n",
       "      <td>0.3</td>\n",
       "      <td>-3.3</td>\n",
       "      <td>-1.9</td>\n",
       "    </tr>\n",
       "  </tbody>\n",
       "</table>\n",
       "</div>"
      ],
      "text/plain": [
       "      Switzerland  Germany  France  Greece  Italy\n",
       "2010          3.0      4.1     2.0    -5.4    1.7\n",
       "2011          1.8      3.6     2.1    -8.9    0.6\n",
       "2012          1.1      0.4     0.3    -6.6   -2.3\n",
       "2013          1.9      0.1     0.3    -3.3   -1.9"
      ]
     },
     "execution_count": 36,
     "metadata": {},
     "output_type": "execute_result"
    }
   ],
   "source": [
    "# DataFrame from Nested Dictionaries\n",
    "# A nested dictionary of dicts can be passed to a DataFrame as well. The indices of the outer dictionary are taken as the the columns and the inner keys. i.e. the keys of the nested dictionaries, are used as the row indices:\n",
    "\n",
    "growth = {\"Switzerland\": {\"2010\": 3.0, \"2011\": 1.8, \"2012\": 1.1, \"2013\": 1.9},\n",
    "          \"Germany\": {\"2010\": 4.1, \"2011\": 3.6, \"2012\":\t0.4, \"2013\": 0.1},\n",
    "          \"France\": {\"2010\":2.0,  \"2011\":2.1, \"2012\": 0.3, \"2013\": 0.3},\n",
    "          \"Greece\": {\"2010\":-5.4, \"2011\":-8.9, \"2012\":-6.6, \"2013\":\t-3.3},\n",
    "          \"Italy\": {\"2010\":1.7, \"2011\":\t0.6, \"2012\":-2.3, \"2013\":-1.9}\n",
    "          } \n",
    "growth_frame = pd.DataFrame(growth)\n",
    "growth_frame"
   ]
  },
  {
   "cell_type": "code",
   "execution_count": null,
   "metadata": {},
   "outputs": [],
   "source": [
    "# Inserting new columns into existing DataFrames\n",
    "\n",
    "#In the previous example we have added the column area at creation time. Quite often it will be necessary to add or insert columns into existing DataFrames. For this purpose the DataFrame class provides a method \"insert\", which allows us to insert a column into a DataFrame at a specified location:\n",
    "\n",
    "city_frame = pd.DataFrame(cities,\n",
    "                          columns=[\"country\", \n",
    "                                   \"population\"],\n",
    "                          index=cities[\"name\"])\n",
    "\n",
    "\n",
    "idx = 1\n",
    "city_frame.insert(loc=idx, column='area', value=area)"
   ]
  },
  {
   "cell_type": "code",
   "execution_count": 37,
   "metadata": {},
   "outputs": [
    {
     "data": {
      "text/html": [
       "<div>\n",
       "<style scoped>\n",
       "    .dataframe tbody tr th:only-of-type {\n",
       "        vertical-align: middle;\n",
       "    }\n",
       "\n",
       "    .dataframe tbody tr th {\n",
       "        vertical-align: top;\n",
       "    }\n",
       "\n",
       "    .dataframe thead th {\n",
       "        text-align: right;\n",
       "    }\n",
       "</style>\n",
       "<table border=\"1\" class=\"dataframe\">\n",
       "  <thead>\n",
       "    <tr style=\"text-align: right;\">\n",
       "      <th></th>\n",
       "      <th>Frank</th>\n",
       "      <th>Eve</th>\n",
       "      <th>Stella</th>\n",
       "      <th>Guido</th>\n",
       "      <th>Lara</th>\n",
       "    </tr>\n",
       "  </thead>\n",
       "  <tbody>\n",
       "    <tr>\n",
       "      <th>January</th>\n",
       "      <td>1457.08</td>\n",
       "      <td>-34.86</td>\n",
       "      <td>-319.07</td>\n",
       "      <td>1324.91</td>\n",
       "      <td>-647.70</td>\n",
       "    </tr>\n",
       "    <tr>\n",
       "      <th>February</th>\n",
       "      <td>773.62</td>\n",
       "      <td>435.64</td>\n",
       "      <td>800.59</td>\n",
       "      <td>645.62</td>\n",
       "      <td>-1208.51</td>\n",
       "    </tr>\n",
       "    <tr>\n",
       "      <th>March</th>\n",
       "      <td>-917.54</td>\n",
       "      <td>531.45</td>\n",
       "      <td>-740.43</td>\n",
       "      <td>-268.04</td>\n",
       "      <td>574.21</td>\n",
       "    </tr>\n",
       "    <tr>\n",
       "      <th>April</th>\n",
       "      <td>-1810.72</td>\n",
       "      <td>-1568.59</td>\n",
       "      <td>-826.43</td>\n",
       "      <td>1315.90</td>\n",
       "      <td>228.90</td>\n",
       "    </tr>\n",
       "    <tr>\n",
       "      <th>May</th>\n",
       "      <td>-187.84</td>\n",
       "      <td>513.89</td>\n",
       "      <td>1410.20</td>\n",
       "      <td>8.42</td>\n",
       "      <td>70.96</td>\n",
       "    </tr>\n",
       "    <tr>\n",
       "      <th>June</th>\n",
       "      <td>804.46</td>\n",
       "      <td>-415.58</td>\n",
       "      <td>1944.98</td>\n",
       "      <td>398.85</td>\n",
       "      <td>292.95</td>\n",
       "    </tr>\n",
       "    <tr>\n",
       "      <th>July</th>\n",
       "      <td>-1323.32</td>\n",
       "      <td>966.81</td>\n",
       "      <td>-118.53</td>\n",
       "      <td>-1273.33</td>\n",
       "      <td>576.84</td>\n",
       "    </tr>\n",
       "    <tr>\n",
       "      <th>August</th>\n",
       "      <td>-266.46</td>\n",
       "      <td>-249.81</td>\n",
       "      <td>-1250.41</td>\n",
       "      <td>-589.01</td>\n",
       "      <td>-1078.28</td>\n",
       "    </tr>\n",
       "    <tr>\n",
       "      <th>September</th>\n",
       "      <td>619.90</td>\n",
       "      <td>1293.75</td>\n",
       "      <td>-785.88</td>\n",
       "      <td>1034.85</td>\n",
       "      <td>-1468.44</td>\n",
       "    </tr>\n",
       "    <tr>\n",
       "      <th>October</th>\n",
       "      <td>-973.98</td>\n",
       "      <td>-1074.52</td>\n",
       "      <td>727.02</td>\n",
       "      <td>655.10</td>\n",
       "      <td>-1007.79</td>\n",
       "    </tr>\n",
       "    <tr>\n",
       "      <th>November</th>\n",
       "      <td>-283.35</td>\n",
       "      <td>-40.75</td>\n",
       "      <td>441.71</td>\n",
       "      <td>-118.02</td>\n",
       "      <td>1221.04</td>\n",
       "    </tr>\n",
       "    <tr>\n",
       "      <th>December</th>\n",
       "      <td>-131.77</td>\n",
       "      <td>-481.74</td>\n",
       "      <td>-1199.28</td>\n",
       "      <td>-51.99</td>\n",
       "      <td>-1684.13</td>\n",
       "    </tr>\n",
       "  </tbody>\n",
       "</table>\n",
       "</div>"
      ],
      "text/plain": [
       "             Frank      Eve   Stella    Guido     Lara\n",
       "January    1457.08   -34.86  -319.07  1324.91  -647.70\n",
       "February    773.62   435.64   800.59   645.62 -1208.51\n",
       "March      -917.54   531.45  -740.43  -268.04   574.21\n",
       "April     -1810.72 -1568.59  -826.43  1315.90   228.90\n",
       "May        -187.84   513.89  1410.20     8.42    70.96\n",
       "June        804.46  -415.58  1944.98   398.85   292.95\n",
       "July      -1323.32   966.81  -118.53 -1273.33   576.84\n",
       "August     -266.46  -249.81 -1250.41  -589.01 -1078.28\n",
       "September   619.90  1293.75  -785.88  1034.85 -1468.44\n",
       "October    -973.98 -1074.52   727.02   655.10 -1007.79\n",
       "November   -283.35   -40.75   441.71  -118.02  1221.04\n",
       "December   -131.77  -481.74 -1199.28   -51.99 -1684.13"
      ]
     },
     "execution_count": 37,
     "metadata": {},
     "output_type": "execute_result"
    }
   ],
   "source": [
    "# Filling a DataFrame with random values:\n",
    "\n",
    "import numpy as np\n",
    "\n",
    "names = ['Frank', 'Eve', 'Stella', 'Guido', 'Lara']\n",
    "index = [\"January\", \"February\", \"March\",\n",
    "         \"April\", \"May\", \"June\",\n",
    "         \"July\", \"August\", \"September\",\n",
    "         \"October\", \"November\", \"December\"]\n",
    "df = pd.DataFrame((np.random.randn(12, 5)*1000).round(2),\n",
    "                  columns=names,\n",
    "                  index=index)\n",
    "df"
   ]
  },
  {
   "cell_type": "markdown",
   "metadata": {},
   "source": [
    "<a id=\"acdf\"></a>\n",
    "\n",
    "### accessing and changing values of a dataframe"
   ]
  },
  {
   "cell_type": "code",
   "execution_count": null,
   "metadata": {},
   "outputs": [],
   "source": [
    "import pandas as pd\n",
    "\n",
    "first = ('Mike', 'Dorothee', 'Tom', 'Bill', 'Pete', 'Kate')\n",
    "last = ('Meyer', 'Maier', 'Meyer', 'Mayer', 'Meyr', 'Mair')\n",
    "job = ('data analyst', 'programmer', 'computer scientist', \n",
    "       'data scientist', 'accountant', 'psychiatrist')\n",
    "language = ('Python', 'Perl', 'Java', 'Java', 'Cobol', 'Brainfuck')\n",
    "\n",
    "df = pd.DataFrame(list(zip(last, job, language)), \n",
    "                  columns =['last', 'job', 'language'],\n",
    "                  index=first) \n",
    "df"
   ]
  },
  {
   "cell_type": "code",
   "execution_count": null,
   "metadata": {},
   "outputs": [],
   "source": [
    "# Changing one value in DataFrame\n",
    "# Pandas provides two ways, i.e. loc and at, to access or change a single value of a DataFrame. We will experiment with the height of Bill in the following Python code:\n",
    "\n",
    "# accessing the job of Bill:\n",
    "print(df.loc['Bill', 'job'])\n",
    "# alternative way to access it with at:\n",
    "print(df.at['Bill', 'job'])\n",
    "\n",
    "# setting the job of Bill to 'data analyst' with 'loc'\n",
    "df.loc['Bill', 'job'] = 'data analyst'\n",
    "# let us check it:\n",
    "print(df.loc['Bill', 'job'])\n",
    "\n",
    "# setting the job of Bill to 'computer scientist' with 'at'\n",
    "df.at['Pete', 'language'] = 'Python'"
   ]
  },
  {
   "cell_type": "code",
   "execution_count": null,
   "metadata": {},
   "outputs": [],
   "source": [
    "# replace\n",
    "\n",
    "s = pd.Series([27, 33, 13, 19])\n",
    "s.replace(13, 42)"
   ]
  },
  {
   "cell_type": "code",
   "execution_count": null,
   "metadata": {},
   "outputs": [],
   "source": [
    "df.replace(\"programmer\", \n",
    "           \"computer scientist\", \n",
    "           inplace=True)\n",
    "df"
   ]
  },
  {
   "cell_type": "code",
   "execution_count": null,
   "metadata": {},
   "outputs": [],
   "source": [
    "df.replace(to_replace=['Mike', 'Tom', 'Perl'],\n",
    "           value= ['Michael', 'Thomas', 'Python'], \n",
    "           inplace=True)\n",
    "df"
   ]
  },
  {
   "cell_type": "code",
   "execution_count": null,
   "metadata": {},
   "outputs": [],
   "source": [
    "# to_replace can be a dict\n",
    "#Dictionaries can be used to specify different replacement values for different existing values. For example, {'a': 'b', 'y': 'z'} replaces the value 'a' with 'b' and 'y' with 'z'. To use a dict in this way the value parameter should be None.\n",
    "\n",
    "#Ìf replace is applied on a DataFrame, a dict can specify that different values should be replaced in different columns. For example, {'a': 1, 'b': 'z'} looks for the value 1 in column 'a' and the value 'z' in column 'b' and replaces these values with whatever is specified in value. The value parameter should not be None in this case. You can treat this as a special case of passing two lists except that you are specifying the column to search in.\n",
    "#If we use nested dictionaries like {'A': {'foo': 'bar'}}, they are interpreted like this: look in column 'A' for the value 'foo' and replace it with 'bar'. The value parameter has to be None in this case.\n",
    "\n",
    "df = pd.DataFrame({'A': [0, 1, 2, 3, 4],\n",
    "                   'B': ['foo', 'bar', 'bloo', 'blee', 'bloo'],\n",
    "                   'C': ['green', 'red', 'blue', 'yellow', 'green']})\n",
    "\n",
    "df.replace(to_replace={\"A\": {0: 42, 3: 33}, 'B': {'bloo': 'vloo'}},\n",
    "           inplace=True)\n",
    "df"
   ]
  },
  {
   "cell_type": "code",
   "execution_count": 39,
   "metadata": {},
   "outputs": [],
   "source": [
    "# The method parameter of replace:\n",
    "# When the parameter value is None and the parameter to_replace is a scalar, list or tuple, the method replace will use the parameter method to decide which replacement to perform. The possible values for method are pad, ffill, bfill, None. The default value is pad.\n",
    "#First of all, you have to know that pad and ffill are equivalent.\n",
    "#We will explain the way of working with the following Python example code. We will replace the values NN and LN of the following DataFrame in different ways by using the parameter method.\n",
    "\n",
    "import pandas as pd\n",
    "\n",
    "df = pd.DataFrame({\n",
    "    'name':['Ben', 'Kate', 'Agnes', 'Ashleigh', 'Tom'],\n",
    "    'job':['programmer', 'NN', 'NN', 'engineer', 'teacher'],\n",
    "    'language':['Java', 'Python', 'LN', 'LN', 'C']})"
   ]
  },
  {
   "cell_type": "code",
   "execution_count": null,
   "metadata": {},
   "outputs": [],
   "source": [
    "# method is backfill\n",
    "df.replace(to_replace='NN', \n",
    "           value=None, \n",
    "           method='ffill')\n",
    "\n",
    "df.replace(to_replace=['NN', 'LN'],\n",
    "           value=None,\n",
    "           method='ffill')"
   ]
  },
  {
   "cell_type": "code",
   "execution_count": null,
   "metadata": {},
   "outputs": [],
   "source": [
    "#Conditional that returns a boolean Series\n",
    "\n",
    "df.loc[df['shield'] > 6]\n",
    "\n",
    "\n",
    "#Conditional that returns a boolean Series with column labels specified\n",
    "\n",
    "df.loc[df['shield'] > 6, ['max_speed']]\n",
    "\n",
    "#Callable that returns a boolean Series\n",
    "\n",
    "df.loc[lambda df: df['shield'] == 8]\n",
    "\n",
    "# Set value for rows matching callable condition\n",
    "\n",
    "df.loc[df['shield'] > 35] = 0\n",
    "df"
   ]
  },
  {
   "cell_type": "code",
   "execution_count": null,
   "metadata": {},
   "outputs": [],
   "source": [
    "## Selecting, Boolean indexing and setting\n",
    "\n",
    "# by position\n",
    "\n",
    "df.iloc, df.iat\n",
    "\n",
    "# by label\n",
    "\n",
    "df.loc, df.at\n",
    "\n",
    "## label/position\n",
    "\n",
    "df.ix"
   ]
  },
  {
   "cell_type": "code",
   "execution_count": null,
   "metadata": {},
   "outputs": [],
   "source": [
    "# Retrieving Series/DataFrame Information\n",
    "\n",
    ">>> df.shape (rows,columns)\n",
    ">>> df.index Describe index\n",
    ">>> df.columns Describe DataFrame columns\n",
    ">>> df.info() Info on DataFrame\n",
    ">>> df.count() Number of non-NA values\n",
    "\n",
    "# Summary\n",
    ">>> df.sum() Sum of values\n",
    ">>> df.cumsum() Cummulative sum of values\n",
    ">>> df.min()/df.max() Minimum/maximum values\n",
    ">>> df.idxmin()/df.idxmax() Minimum/Maximum index value\n",
    ">>> df.describe() Summary statistics\n",
    ">>> df.mean() Mean of values\n",
    ">>> df.median() Median of values\n",
    "\n",
    "# Applying Functions\n",
    "\n",
    ">>> f = lambda x: x*2\n",
    ">>> df.apply(f)# Apply function\n",
    ">>> df.applymap(f) # apply function element wise"
   ]
  },
  {
   "cell_type": "code",
   "execution_count": null,
   "metadata": {},
   "outputs": [],
   "source": []
  },
  {
   "cell_type": "code",
   "execution_count": null,
   "metadata": {},
   "outputs": [],
   "source": []
  },
  {
   "cell_type": "code",
   "execution_count": null,
   "metadata": {},
   "outputs": [],
   "source": []
  },
  {
   "cell_type": "markdown",
   "metadata": {},
   "source": [
    "<a id=\"dab\"></a>\n",
    "\n",
    "### Data files and binning"
   ]
  },
  {
   "cell_type": "code",
   "execution_count": null,
   "metadata": {},
   "outputs": [],
   "source": [
    "import pandas as pd\n",
    "\n",
    "exchange_rates = pd.read_csv(\"data1/dollar_euro.txt\",\n",
    "                             sep=\"\\t\")\n",
    "print(exchange_rates)"
   ]
  },
  {
   "cell_type": "code",
   "execution_count": null,
   "metadata": {},
   "outputs": [],
   "source": [
    "# As we can see, read_csv used automatically the first line as the names for the columns. It is possible to give other names to the columns. For this purpose, we have to skip the first line by setting the parameter \"header\" to 0 and we have to assign a list with the column names to the parameter \"names\":\n",
    "    \n",
    "import pandas as pd\n",
    "\n",
    "exchange_rates = pd.read_csv(\"data1/dollar_euro.txt\",\n",
    "                             sep=\"\\t\",\n",
    "                             header=0,\n",
    "                             names=[\"year\", \"min\", \"max\", \"days\"])\n",
    "print(exchange_rates)"
   ]
  },
  {
   "cell_type": "code",
   "execution_count": null,
   "metadata": {},
   "outputs": [],
   "source": [
    "excel_file = pd.ExcelFile(\"data1/sales.xls\")\n",
    "\n",
    "sheet = pd.read_excel(excel_file)\n",
    "sheet"
   ]
  },
  {
   "cell_type": "code",
   "execution_count": 42,
   "metadata": {},
   "outputs": [
    {
     "name": "stdout",
     "output_type": "stream",
     "text": [
      "[(50, 54), (54, 58), (58, 62), (62, 66), (66, 70), (70, 74), (74, 78), (78, 82), (82, 86), (86, 90), (90, 94)]\n"
     ]
    }
   ],
   "source": [
    "# Binning in Python\n",
    "# The following Python function can be used to create bins.\n",
    "\n",
    "def create_bins(lower_bound, width, quantity):\n",
    "    \"\"\" create_bins returns an equal-width (distance) partitioning. \n",
    "        It returns an ascending list of tuples, representing the intervals.\n",
    "        A tuple bins[i], i.e. (bins[i][0], bins[i][1])  with i > 0 \n",
    "        and i < quantity, satisfies the following conditions:\n",
    "            (1) bins[i][0] + width == bins[i][1]\n",
    "            (2) bins[i-1][0] + width == bins[i][0] and\n",
    "                bins[i-1][1] + width == bins[i][1]\n",
    "    \"\"\"\n",
    "    \n",
    "\n",
    "    bins = []\n",
    "    for low in range(lower_bound, \n",
    "                     lower_bound + quantity*width + 1, width):\n",
    "        bins.append((low, low+width))\n",
    "    return bins\n",
    "\n",
    "# We will create now five bins (quantity=5) with a width of 10 (width=10) starting from 10 (lower_bound=10):\n",
    "\n",
    "bins = create_bins(lower_bound=10,\n",
    "                   width=10,\n",
    "                   quantity=5)\n",
    "\n",
    "\n",
    "from collections import Counter\n",
    "\n",
    "bins = create_bins(lower_bound=50,\n",
    "                   width=4,\n",
    "                   quantity=10)\n",
    "\n",
    "print(bins)"
   ]
  },
  {
   "cell_type": "code",
   "execution_count": 44,
   "metadata": {},
   "outputs": [],
   "source": [
    "# The next function 'find_bin' is called with a list or tuple of bin 'bins', which have to be two-tuples or lists of two elements. The function finds the index of the interval, where the value 'value' is contained:\n",
    "\n",
    "def find_bin(value, bins):\n",
    "    \"\"\" bins is a list of tuples, like [(0,20), (20, 40), (40, 60)],\n",
    "        binning returns the smallest index i of bins so that\n",
    "        bin[i][0] <= value < bin[i][1]\n",
    "    \"\"\"\n",
    "    \n",
    "    for i in range(0, len(bins)):\n",
    "        if bins[i][0] <= value < bins[i][1]:\n",
    "            return i\n",
    "    return -1"
   ]
  },
  {
   "cell_type": "code",
   "execution_count": 45,
   "metadata": {},
   "outputs": [
    {
     "name": "stdout",
     "output_type": "stream",
     "text": [
      "[(50, 54), (54, 58), (58, 62), (62, 66), (66, 70), (70, 74), (74, 78), (78, 82), (82, 86), (86, 90), (90, 94)]\n",
      "73.4 5 (70, 74)\n",
      "69.3 4 (66, 70)\n",
      "64.9 3 (62, 66)\n",
      "75.6 6 (74, 78)\n",
      "74.9 6 (74, 78)\n",
      "80.3 7 (78, 82)\n",
      "78.6 7 (78, 82)\n",
      "84.1 8 (82, 86)\n",
      "88.9 9 (86, 90)\n",
      "90.3 10 (90, 94)\n",
      "83.4 8 (82, 86)\n",
      "69.3 4 (66, 70)\n",
      "52.4 0 (50, 54)\n",
      "58.3 2 (58, 62)\n",
      "67.4 4 (66, 70)\n",
      "74.0 6 (74, 78)\n",
      "89.3 9 (86, 90)\n",
      "63.4 3 (62, 66)\n",
      "Counter({4: 3, 6: 3, 3: 2, 7: 2, 8: 2, 9: 2, 5: 1, 10: 1, 0: 1, 2: 1})\n"
     ]
    }
   ],
   "source": [
    "from collections import Counter\n",
    "\n",
    "bins = create_bins(lower_bound=50,\n",
    "                   width=4,\n",
    "                   quantity=10)\n",
    "\n",
    "print(bins)\n",
    "\n",
    "weights_of_persons = [73.4, 69.3, 64.9, 75.6, 74.9, 80.3, \n",
    "                      78.6, 84.1, 88.9, 90.3, 83.4, 69.3, \n",
    "                      52.4, 58.3, 67.4, 74.0, 89.3, 63.4]\n",
    "\n",
    "binned_weights = []\n",
    "\n",
    "for value in weights_of_persons:\n",
    "    bin_index = find_bin(value, bins)\n",
    "    print(value, bin_index, bins[bin_index])\n",
    "    binned_weights.append(bin_index)\n",
    "    \n",
    "frequencies = Counter(binned_weights)\n",
    "print(frequencies)"
   ]
  },
  {
   "cell_type": "code",
   "execution_count": 46,
   "metadata": {},
   "outputs": [
    {
     "name": "stdout",
     "output_type": "stream",
     "text": [
      "[(70, 74], (66, 70], (62, 66], (74, 78], (74, 78], ..., (58, 62], (66, 70], (70, 74], (86, 90], (62, 66]]\n",
      "Length: 18\n",
      "Categories (11, interval[int64]): [(50, 54] < (54, 58] < (58, 62] < (62, 66] ... (78, 82] < (82, 86] < (86, 90] < (90, 94]]\n"
     ]
    }
   ],
   "source": [
    "# Bins used by Pandas\n",
    "# We used a list of tuples as bins in our previous example. We have to turn this list into a usable data structure for the pandas function \"cut\". This data structure is an IntervalIndex. We can do this with pd.IntervalIndex.from_tuples:\n",
    "\n",
    "import pandas as pd\n",
    "\n",
    "bins2 = pd.IntervalIndex.from_tuples(bins)\n",
    "\n",
    "#\"cut\" is the name of the Pandas function, which is needed to bin values into bins. \"cut\" takes many parameters but the most important ones are \"x\" for the actual values und \"bins\", defining the IntervalIndex. \"x\" can be any 1-dimensional array-like structure, e.g. tuples, lists, nd-arrays and so on:\n",
    "\n",
    "categorical_object = pd.cut(weights_of_persons, bins2)\n",
    "print(categorical_object)"
   ]
  },
  {
   "cell_type": "code",
   "execution_count": 47,
   "metadata": {},
   "outputs": [
    {
     "name": "stdout",
     "output_type": "stream",
     "text": [
      "[[70, 74), [66, 70), [62, 66), [74, 78), [74, 78), ..., [58, 62), [66, 70), [74, 78), [86, 90), [62, 66)]\n",
      "Length: 18\n",
      "Categories (11, interval[int64]): [[50, 54) < [54, 58) < [58, 62) < [62, 66) ... [78, 82) < [82, 86) < [86, 90) < [90, 94)]\n"
     ]
    }
   ],
   "source": [
    "bins2 = pd.IntervalIndex.from_tuples(bins, closed=\"left\")\n",
    "categorical_object = pd.cut(weights_of_persons, bins2)\n",
    "print(categorical_object)"
   ]
  },
  {
   "cell_type": "code",
   "execution_count": null,
   "metadata": {},
   "outputs": [],
   "source": [
    "pd.value_counts(categorical_object)"
   ]
  },
  {
   "cell_type": "code",
   "execution_count": null,
   "metadata": {},
   "outputs": [],
   "source": [
    "\n",
    "labels = categorical_object.codes\n",
    "labels"
   ]
  },
  {
   "cell_type": "code",
   "execution_count": 48,
   "metadata": {},
   "outputs": [
    {
     "data": {
      "text/plain": [
       "none               6\n",
       "summa cum laude    2\n",
       "cum laude          2\n",
       "magna cum laude    1\n",
       "dtype: int64"
      ]
     },
     "execution_count": 48,
     "metadata": {},
     "output_type": "execute_result"
    }
   ],
   "source": [
    "# Naming bins\n",
    "#Let's imagine, we have an University, which confers three levels of Latin honors depending on the grade point average (GPA):\n",
    "#\"summa cum laude\" requires a GPA above 3.9\n",
    "#\"magna cum laude\" if the GPA is above 3.8\n",
    "#\"cum laude\" if the GPA of 3.6 or above\n",
    "\n",
    "degrees = [\"none\", \"cum laude\", \"magna cum laude\", \"summa cum laude\"]\n",
    "student_results = [3.93, 3.24, 2.80, 2.83, 3.91, 3.698, 3.731, 3.25, 3.24, 3.82, 3.22]\n",
    "\n",
    "student_results_degrees = pd.cut(student_results, [0, 3.6, 3.8, 3.9, 4.0], labels=degrees)\n",
    "pd.value_counts(student_results_degrees)"
   ]
  },
  {
   "cell_type": "code",
   "execution_count": 49,
   "metadata": {},
   "outputs": [
    {
     "name": "stdout",
     "output_type": "stream",
     "text": [
      "3.93 3 summa cum laude\n",
      "3.24 0 none\n",
      "2.8 0 none\n",
      "2.83 0 none\n",
      "3.91 3 summa cum laude\n",
      "3.698 1 cum laude\n",
      "3.731 1 cum laude\n",
      "3.25 0 none\n",
      "3.24 0 none\n",
      "3.82 2 magna cum laude\n",
      "3.22 0 none\n"
     ]
    }
   ],
   "source": [
    "# Let's have a look at the individual degrees of each student:\n",
    "\n",
    "labels = student_results_degrees.codes\n",
    "categories = student_results_degrees.categories\n",
    "\n",
    "for index in range(len(student_results)):\n",
    "    label_index = labels[index]\n",
    "    print(student_results[index], label_index, categories[label_index] )"
   ]
  },
  {
   "cell_type": "markdown",
   "metadata": {},
   "source": [
    "<a id=\"mlm\"></a>\n",
    "\n",
    "## Multilevel indexing"
   ]
  },
  {
   "cell_type": "code",
   "execution_count": 50,
   "metadata": {},
   "outputs": [
    {
     "name": "stdout",
     "output_type": "stream",
     "text": [
      "[['Vienna', 'Vienna', 'Vienna', 'Hamburg', 'Hamburg', 'Hamburg', 'Berlin', 'Berlin', 'Berlin', 'Zürich', 'Zürich', 'Zürich'], ['country', 'area', 'population', 'country', 'area', 'population', 'country', 'area', 'population', 'country', 'area', 'population']]\n"
     ]
    }
   ],
   "source": [
    "import pandas as pd\n",
    "\n",
    "cities = [\"Vienna\", \"Vienna\", \"Vienna\",\n",
    "          \"Hamburg\", \"Hamburg\", \"Hamburg\",\n",
    "          \"Berlin\", \"Berlin\", \"Berlin\",\n",
    "          \"Zürich\", \"Zürich\", \"Zürich\"]\n",
    "index = [cities, [\"country\", \"area\", \"population\",\n",
    "                  \"country\", \"area\", \"population\",\n",
    "                  \"country\", \"area\", \"population\",\n",
    "                  \"country\", \"area\", \"population\"]]\n",
    "print(index)"
   ]
  },
  {
   "cell_type": "code",
   "execution_count": 51,
   "metadata": {},
   "outputs": [
    {
     "name": "stdout",
     "output_type": "stream",
     "text": [
      "Vienna   country           Austria\n",
      "         area                414.6\n",
      "         population        1805681\n",
      "Hamburg  country           Germany\n",
      "         area                  755\n",
      "         population        1760433\n",
      "Berlin   country           Germany\n",
      "         area               891.85\n",
      "         population        3562166\n",
      "Zürich   country       Switzerland\n",
      "         area                87.88\n",
      "         population         378884\n",
      "dtype: object\n"
     ]
    }
   ],
   "source": [
    "data = [\"Austria\", 414.60,    1805681,\n",
    "        \"Germany\", 755.00,    1760433,\n",
    "        \"Germany\", 891.85,    3562166,\n",
    "        \"Switzerland\", 87.88, 378884]\n",
    "\n",
    "city_series = pd.Series(data, index=index)\n",
    "print(city_series)"
   ]
  },
  {
   "cell_type": "code",
   "execution_count": 52,
   "metadata": {},
   "outputs": [
    {
     "name": "stdout",
     "output_type": "stream",
     "text": [
      "country       Austria\n",
      "area            414.6\n",
      "population    1805681\n",
      "dtype: object\n"
     ]
    }
   ],
   "source": [
    "# We can access the data of a city in the following way:\n",
    "\n",
    "print(city_series[\"Vienna\"])"
   ]
  },
  {
   "cell_type": "code",
   "execution_count": 53,
   "metadata": {},
   "outputs": [
    {
     "name": "stdout",
     "output_type": "stream",
     "text": [
      "414.6\n",
      "414.6\n"
     ]
    }
   ],
   "source": [
    "# We can also access the information about the country, area or population of a city. We can do this in two ways:\n",
    "\n",
    "print(city_series[\"Vienna\"][\"area\"])\n",
    "\n",
    "#The other way to accomplish it:\n",
    "\n",
    "print(city_series[\"Vienna\", \"area\"])"
   ]
  },
  {
   "cell_type": "code",
   "execution_count": 54,
   "metadata": {},
   "outputs": [
    {
     "name": "stdout",
     "output_type": "stream",
     "text": [
      "city_series with sorted index:\n",
      "Berlin   area               891.85\n",
      "         country           Germany\n",
      "         population        3562166\n",
      "Hamburg  area                  755\n",
      "         country           Germany\n",
      "         population        1760433\n",
      "Vienna   area                414.6\n",
      "         country           Austria\n",
      "         population        1805681\n",
      "Zürich   area                87.88\n",
      "         country       Switzerland\n",
      "         population         378884\n",
      "dtype: object\n",
      "\n",
      "\n",
      "Slicing the city_series:\n"
     ]
    },
    {
     "data": {
      "text/plain": [
       "Berlin   area           891.85\n",
       "         country       Germany\n",
       "         population    3562166\n",
       "Hamburg  area              755\n",
       "         country       Germany\n",
       "         population    1760433\n",
       "Vienna   area            414.6\n",
       "         country       Austria\n",
       "         population    1805681\n",
       "dtype: object"
      ]
     },
     "execution_count": 54,
     "metadata": {},
     "output_type": "execute_result"
    }
   ],
   "source": [
    "# If the index is sorted, we can also apply a slicing operation:\n",
    "\n",
    "city_series = city_series.sort_index()\n",
    "print(\"city_series with sorted index:\")\n",
    "print(city_series)\n",
    "\n",
    "print(\"\\n\\nSlicing the city_series:\")\n",
    "city_series[\"Berlin\":\"Vienna\"]"
   ]
  },
  {
   "cell_type": "code",
   "execution_count": 55,
   "metadata": {},
   "outputs": [
    {
     "data": {
      "text/plain": [
       "area        Berlin          891.85\n",
       "            Hamburg            755\n",
       "            Vienna           414.6\n",
       "            Zürich           87.88\n",
       "country     Berlin         Germany\n",
       "            Hamburg        Germany\n",
       "            Vienna         Austria\n",
       "            Zürich     Switzerland\n",
       "population  Berlin         3562166\n",
       "            Hamburg        1760433\n",
       "            Vienna         1805681\n",
       "            Zürich          378884\n",
       "dtype: object"
      ]
     },
     "execution_count": 55,
     "metadata": {},
     "output_type": "execute_result"
    }
   ],
   "source": [
    "## swap multilevel indexes\n",
    "\n",
    "city_series = city_series.swaplevel()\n",
    "city_series.sort_index(inplace=True)\n",
    "city_series"
   ]
  },
  {
   "cell_type": "markdown",
   "metadata": {},
   "source": [
    "<a id=\"vizdp\"></a>\n",
    "\n",
    "### Data viz"
   ]
  },
  {
   "cell_type": "code",
   "execution_count": 57,
   "metadata": {},
   "outputs": [
    {
     "data": {
      "text/plain": [
       "<matplotlib.axes._subplots.AxesSubplot at 0x7fa2316ec470>"
      ]
     },
     "execution_count": 57,
     "metadata": {},
     "output_type": "execute_result"
    },
    {
     "data": {
      "image/png": "[encoded data removed]",
      "text/plain": [
       "<Figure size 432x288 with 1 Axes>"
      ]
     },
     "metadata": {
      "needs_background": "light"
     },
     "output_type": "display_data"
    }
   ],
   "source": [
    "# line plot \n",
    "import pandas as pd\n",
    "%matplotlib inline\n",
    "data = [100, 120, 140, 180, 200, 210, 214]\n",
    "s = pd.Series(data, index=range(len(data)))\n",
    "\n",
    "s.plot()"
   ]
  },
  {
   "cell_type": "code",
   "execution_count": 58,
   "metadata": {},
   "outputs": [
    {
     "name": "stdout",
     "output_type": "stream",
     "text": [
      "           population     area\n",
      "London        8615246  1572.00\n",
      "Berlin        3562166   891.85\n",
      "Madrid        3165235   605.77\n",
      "Rome          2874038  1285.00\n",
      "Paris         2273305   105.40\n",
      "Vienna        1805681   414.60\n",
      "Bucharest     1803425   228.00\n",
      "Hamburg       1760433   755.00\n",
      "Budapest      1754000   525.20\n",
      "Warsaw        1740119   517.00\n",
      "Barcelona     1602386   101.90\n",
      "Munich        1493900   310.40\n",
      "Milan         1350680   181.80\n"
     ]
    }
   ],
   "source": [
    "import pandas as pd\n",
    "\n",
    "cities = {\"name\": [\"London\", \"Berlin\", \"Madrid\", \"Rome\", \n",
    "                   \"Paris\", \"Vienna\", \"Bucharest\", \"Hamburg\", \n",
    "                   \"Budapest\", \"Warsaw\", \"Barcelona\", \n",
    "                   \"Munich\", \"Milan\"],\n",
    "          \"population\": [8615246, 3562166, 3165235, 2874038,\n",
    "                         2273305, 1805681, 1803425, 1760433,\n",
    "                         1754000, 1740119, 1602386, 1493900,\n",
    "                         1350680],\n",
    "          \"area\" : [1572, 891.85, 605.77, 1285, \n",
    "                    105.4, 414.6, 228, 755, \n",
    "                    525.2, 517, 101.9, 310.4, \n",
    "                    181.8]\n",
    "}\n",
    "\n",
    "city_frame = pd.DataFrame(cities,\n",
    "                          columns=[\"population\", \"area\"],\n",
    "                          index=cities[\"name\"])\n",
    "print(city_frame)"
   ]
  },
  {
   "cell_type": "code",
   "execution_count": 59,
   "metadata": {},
   "outputs": [
    {
     "data": {
      "text/plain": [
       "<matplotlib.axes._subplots.AxesSubplot at 0x7fa231643320>"
      ]
     },
     "execution_count": 59,
     "metadata": {},
     "output_type": "execute_result"
    },
    {
     "data": {
      "image/png": "[encoded data removed]",
      "text/plain": [
       "<Figure size 432x288 with 1 Axes>"
      ]
     },
     "metadata": {
      "needs_background": "light"
     },
     "output_type": "display_data"
    }
   ],
   "source": [
    "city_frame.plot(xticks=range(len(city_frame.index)),\n",
    "                use_index=True, \n",
    "                rot=90)"
   ]
  },
  {
   "cell_type": "code",
   "execution_count": 60,
   "metadata": {},
   "outputs": [
    {
     "data": {
      "image/png": "[encoded data removed]",
      "text/plain": [
       "<Figure size 432x288 with 2 Axes>"
      ]
     },
     "metadata": {
      "needs_background": "light"
     },
     "output_type": "display_data"
    }
   ],
   "source": [
    "## twin axis\n",
    "\n",
    "import matplotlib.pyplot as plt\n",
    "\n",
    "fig, ax = plt.subplots()\n",
    "fig.suptitle(\"City Statistics\")\n",
    "ax.set_ylabel(\"Population\")\n",
    "ax.set_xlabel(\"Cities\")\n",
    "\n",
    "ax2 = ax.twinx()\n",
    "ax2.set_ylabel(\"Area\")\n",
    "\n",
    "city_frame[\"population\"].plot(ax=ax, \n",
    "                              style=\"b-\",\n",
    "                              xticks=range(len(city_frame.index)),\n",
    "                              use_index=True, \n",
    "                              rot=90)\n",
    "\n",
    "city_frame[\"area\"].plot(ax=ax2, \n",
    "                        style=\"g-\",\n",
    "                        use_index=True, \n",
    "                        rot=90)\n",
    "\n",
    "ax.legend([\"population number\"], loc=2)\n",
    "ax2.legend(loc=1)\n",
    "\n",
    "plt.show()"
   ]
  },
  {
   "cell_type": "code",
   "execution_count": 62,
   "metadata": {},
   "outputs": [
    {
     "data": {
      "image/png": "[encoded data removed]",
      "text/plain": [
       "<Figure size 432x288 with 3 Axes>"
      ]
     },
     "metadata": {
      "needs_background": "light"
     },
     "output_type": "display_data"
    }
   ],
   "source": [
    "# Multiple Y axes\n",
    "\n",
    "city_frame[\"density\"] = city_frame[\"population\"] / city_frame[\"area\"]\n",
    "\n",
    "city_frame\n",
    "\n",
    "import matplotlib.pyplot as plt\n",
    "\n",
    "fig, ax = plt.subplots()\n",
    "fig.suptitle(\"City Statistics\")\n",
    "ax.set_ylabel(\"Population\")\n",
    "ax.set_xlabel(\"Citites\")\n",
    "\n",
    "ax_area, ax_density = ax.twinx(), ax.twinx() \n",
    "ax_area.set_ylabel(\"Area\")\n",
    "ax_density.set_ylabel(\"Density\")\n",
    "\n",
    "rspine = ax_density.spines['right']\n",
    "rspine.set_position(('axes', 1.25))\n",
    "ax_density.set_frame_on(True)\n",
    "ax_density.patch.set_visible(False)\n",
    "fig.subplots_adjust(right=0.75)\n",
    "\n",
    "city_frame[\"population\"].plot(ax=ax, \n",
    "                              style=\"b-\",\n",
    "                              xticks=range(len(city_frame.index)),\n",
    "                              use_index=True, \n",
    "                              rot=90)\n",
    "\n",
    "city_frame[\"area\"].plot(ax=ax_area, \n",
    "                        style=\"g-\",\n",
    "                        use_index=True, \n",
    "                        rot=90)\n",
    "\n",
    "city_frame[\"density\"].plot(ax=ax_density, \n",
    "                           style=\"r-\",\n",
    "                           use_index=True, \n",
    "                           rot=90)\n",
    "\n",
    "plt.show()"
   ]
  },
  {
   "cell_type": "code",
   "execution_count": 63,
   "metadata": {},
   "outputs": [
    {
     "data": {
      "text/plain": [
       "<matplotlib.axes._subplots.AxesSubplot at 0x7fa2312fcc18>"
      ]
     },
     "execution_count": 63,
     "metadata": {},
     "output_type": "execute_result"
    },
    {
     "data": {
      "image/png": "[encoded data removed]",
      "text/plain": [
       "<Figure size 432x288 with 1 Axes>"
      ]
     },
     "metadata": {
      "needs_background": "light"
     },
     "output_type": "display_data"
    }
   ],
   "source": [
    "# bar plot \n",
    "\n",
    "import pandas as pd\n",
    "\n",
    "data = [100, 120, 140, 180, 200, 210, 214]\n",
    "s = pd.Series(data, index=range(len(data)))\n",
    "\n",
    "s.plot(kind=\"bar\")"
   ]
  },
  {
   "cell_type": "code",
   "execution_count": 64,
   "metadata": {},
   "outputs": [
    {
     "data": {
      "text/plain": [
       "<matplotlib.axes._subplots.AxesSubplot at 0x7fa23119c390>"
      ]
     },
     "execution_count": 64,
     "metadata": {},
     "output_type": "execute_result"
    },
    {
     "data": {
      "image/png": "[encoded data removed]",
      "text/plain": [
       "<Figure size 432x432 with 1 Axes>"
      ]
     },
     "metadata": {},
     "output_type": "display_data"
    }
   ],
   "source": [
    "# pie \n",
    "import pandas as pd\n",
    "\n",
    "fruits = ['apples', 'pears', 'cherries', 'bananas']\n",
    "series = pd.Series([20, 30, 40, 10], \n",
    "                   index=fruits, \n",
    "                   name='series')\n",
    "\n",
    "series.plot.pie(figsize=(6, 6))"
   ]
  },
  {
   "cell_type": "markdown",
   "metadata": {},
   "source": [
    "<a id=\"dta\"></a>\n",
    "\n",
    "### Datetime"
   ]
  },
  {
   "cell_type": "code",
   "execution_count": 65,
   "metadata": {},
   "outputs": [
    {
     "name": "stdout",
     "output_type": "stream",
     "text": [
      "1993-12-14\n"
     ]
    }
   ],
   "source": [
    "from datetime import date\n",
    "\n",
    "x = date(1993, 12, 14)\n",
    "print(x)"
   ]
  },
  {
   "cell_type": "code",
   "execution_count": 66,
   "metadata": {},
   "outputs": [
    {
     "name": "stdout",
     "output_type": "stream",
     "text": [
      "0001-01-01\n",
      "9999-12-31\n"
     ]
    }
   ],
   "source": [
    "# We can instantiate dates in the range from January 1, 1 to December 31, 9999. This can be inquired from the attributes min and max:\n",
    "\n",
    "from datetime import date\n",
    "\n",
    "print(date.min)\n",
    "print(date.max)"
   ]
  },
  {
   "cell_type": "code",
   "execution_count": 68,
   "metadata": {},
   "outputs": [
    {
     "name": "stdout",
     "output_type": "stream",
     "text": [
      "1993-12-14\n",
      "14\n",
      "12\n",
      "1993\n"
     ]
    }
   ],
   "source": [
    "from datetime import date\n",
    "\n",
    "x = date(1993, 12, 14)\n",
    "print(x)\n",
    "\n",
    "# We can access the day, month and year with attributes:\n",
    "\n",
    "print(x.day)\n",
    "print(x.month)\n",
    "print(x.year)\n"
   ]
  },
  {
   "cell_type": "code",
   "execution_count": 69,
   "metadata": {},
   "outputs": [
    {
     "name": "stdout",
     "output_type": "stream",
     "text": [
      "15:06:23\n"
     ]
    }
   ],
   "source": [
    "from datetime import time\n",
    "\n",
    "t = time(15, 6, 23)\n",
    "print(t)"
   ]
  },
  {
   "cell_type": "code",
   "execution_count": 70,
   "metadata": {},
   "outputs": [
    {
     "data": {
      "text/plain": [
       "(datetime.timedelta(days=959), datetime.timedelta)"
      ]
     },
     "execution_count": 70,
     "metadata": {},
     "output_type": "execute_result"
    }
   ],
   "source": [
    "# Differences between Times\n",
    "# Lets see what happens, if we subtract to datetime objects:\n",
    "\n",
    "from datetime import datetime\n",
    "\n",
    "delta = datetime(1993, 12, 14) - datetime(1991, 4, 30)\n",
    "delta, type(delta)"
   ]
  },
  {
   "cell_type": "code",
   "execution_count": 71,
   "metadata": {},
   "outputs": [
    {
     "name": "stdout",
     "output_type": "stream",
     "text": [
      "1991-05-10 00:01:40\n",
      "10 days, 0:01:40\n"
     ]
    }
   ],
   "source": [
    "from datetime import datetime, timedelta\n",
    "d1 = datetime(1991, 4, 30)\n",
    "d2 = d1 + timedelta(10,100)\n",
    "print(d2)\n",
    "print(d2 - d1)"
   ]
  },
  {
   "cell_type": "code",
   "execution_count": 72,
   "metadata": {},
   "outputs": [
    {
     "data": {
      "text/plain": [
       "'1991-04-30 00:00:00'"
      ]
     },
     "execution_count": 72,
     "metadata": {},
     "output_type": "execute_result"
    }
   ],
   "source": [
    "s = str(d1)\n",
    "s\n"
   ]
  },
  {
   "cell_type": "code",
   "execution_count": 73,
   "metadata": {},
   "outputs": [
    {
     "name": "stdout",
     "output_type": "stream",
     "text": [
      "2000-11-30 00:00:00\n"
     ]
    }
   ],
   "source": [
    "# Creating datetime Objects from Strings\n",
    "# We can use strptime to create new datetime object by parsing a string containing a data and time. The arguments of strptime are the string to be parsed and a format specification.\n",
    "\n",
    "from datetime import datetime\n",
    "t = datetime.strptime(\"30 Nov 00\", \"%d %b %y\")\n",
    "print(t)"
   ]
  },
  {
   "cell_type": "code",
   "execution_count": 74,
   "metadata": {},
   "outputs": [
    {
     "data": {
      "text/plain": [
       "2017-03-31    25\n",
       "2017-03-30    50\n",
       "2017-03-29    15\n",
       "2017-03-28    67\n",
       "2017-03-27    70\n",
       "2017-03-26     9\n",
       "2017-03-25    28\n",
       "2017-03-24    30\n",
       "2017-03-23    32\n",
       "2017-03-22    12\n",
       "dtype: int64"
      ]
     },
     "execution_count": 74,
     "metadata": {},
     "output_type": "execute_result"
    }
   ],
   "source": [
    "# Time Series in Pandas and Python\n",
    "\n",
    "# We could define a Pandas Series, which is built with an index consisting of time stamps.\n",
    "\n",
    "import numpy as np\n",
    "import pandas as pd\n",
    "\n",
    "from datetime import datetime, timedelta as delta\n",
    "ndays = 10\n",
    "start = datetime(2017, 3, 31)\n",
    "dates = [start - delta(days=x) for x in range(0, ndays)]\n",
    "\n",
    "values = [25, 50, 15, 67, 70, 9, 28, 30, 32, 12]\n",
    "\n",
    "ts = pd.Series(values, index=dates)\n",
    "ts"
   ]
  },
  {
   "cell_type": "code",
   "execution_count": 75,
   "metadata": {},
   "outputs": [
    {
     "data": {
      "text/plain": [
       "DatetimeIndex(['1970-12-24', '1970-12-25', '1970-12-26', '1970-12-27',\n",
       "               '1970-12-28', '1970-12-29', '1970-12-30', '1970-12-31',\n",
       "               '1971-01-01', '1971-01-02', '1971-01-03'],\n",
       "              dtype='datetime64[ns]', freq='D')"
      ]
     },
     "execution_count": 75,
     "metadata": {},
     "output_type": "execute_result"
    }
   ],
   "source": [
    "# Create Date Ranges\n",
    "# The date_range method of the pandas module can be used to generate a DatetimeIndex:\n",
    "\n",
    "import pandas as pd\n",
    "\n",
    "index = pd.date_range('12/24/1970', '01/03/1971')\n",
    "index"
   ]
  },
  {
   "cell_type": "code",
   "execution_count": 76,
   "metadata": {},
   "outputs": [
    {
     "name": "stdout",
     "output_type": "stream",
     "text": [
      "DatetimeIndex(['1970-12-24', '1970-12-25', '1970-12-26', '1970-12-27'], dtype='datetime64[ns]', freq='D')\n"
     ]
    }
   ],
   "source": [
    "# We have passed a start and an end date to date_range in our previous example. It is also possible to pass only a start or an end date to the function. In this case, we have to determine the number of periods to generate by setting the keyword parameter 'periods':\n",
    "\n",
    "index = pd.date_range(start='12/24/1970', periods=4)\n",
    "print(index)"
   ]
  },
  {
   "cell_type": "code",
   "execution_count": 77,
   "metadata": {},
   "outputs": [
    {
     "name": "stdout",
     "output_type": "stream",
     "text": [
      "DatetimeIndex(['1970-12-22', '1970-12-23', '1970-12-24'], dtype='datetime64[ns]', freq='D')\n"
     ]
    }
   ],
   "source": [
    "index = pd.date_range(end='12/24/1970', periods=3)\n",
    "print(index)"
   ]
  },
  {
   "cell_type": "code",
   "execution_count": 78,
   "metadata": {},
   "outputs": [
    {
     "name": "stdout",
     "output_type": "stream",
     "text": [
      "DatetimeIndex(['2017-04-07', '2017-04-10', '2017-04-11', '2017-04-12',\n",
      "               '2017-04-13'],\n",
      "              dtype='datetime64[ns]', freq='B')\n"
     ]
    }
   ],
   "source": [
    "# We can also create time frequencies, which consists only of business days for example by setting the keyword parameter 'freq' to the string 'B':\n",
    "\n",
    "index = pd.date_range('2017-04-07', '2017-04-13', freq=\"B\")\n",
    "print(index)"
   ]
  },
  {
   "cell_type": "code",
   "execution_count": 79,
   "metadata": {},
   "outputs": [
    {
     "data": {
      "text/plain": [
       "DatetimeIndex(['2016-02-29', '2016-03-31', '2016-04-30', '2016-05-31',\n",
       "               '2016-06-30'],\n",
       "              dtype='datetime64[ns]', freq='M')"
      ]
     },
     "execution_count": 79,
     "metadata": {},
     "output_type": "execute_result"
    }
   ],
   "source": [
    "# In the following example, we create a time frequency which contains the month ends between two dates. We can see that the year 2016 contained the 29th of February, because it was a leap year:\n",
    "\n",
    "index = pd.date_range('2016-02-25', '2016-07-02', freq=\"M\")\n",
    "index"
   ]
  },
  {
   "cell_type": "code",
   "execution_count": 80,
   "metadata": {},
   "outputs": [
    {
     "data": {
      "text/plain": [
       "DatetimeIndex(['2017-02-06', '2017-02-13', '2017-02-20', '2017-02-27',\n",
       "               '2017-03-06', '2017-03-13', '2017-03-20', '2017-03-27',\n",
       "               '2017-04-03', '2017-04-10'],\n",
       "              dtype='datetime64[ns]', freq='W-MON')"
      ]
     },
     "execution_count": 80,
     "metadata": {},
     "output_type": "execute_result"
    }
   ],
   "source": [
    "index = pd.date_range('2017-02-05', '2017-04-13', freq=\"W-Mon\")\n",
    "index"
   ]
  },
  {
   "cell_type": "code",
   "execution_count": 81,
   "metadata": {},
   "outputs": [],
   "source": [
    "# Example of linear combinations\n",
    "\n",
    "import numpy as np\n",
    "x = np.array([[0,1,1],[1,1,0],[1,0,1]])\n",
    "y = ([3.65,1.55,3.42])\n",
    "scalars = np.linalg.solve(x,y)"
   ]
  },
  {
   "cell_type": "code",
   "execution_count": null,
   "metadata": {},
   "outputs": [],
   "source": []
  },
  {
   "cell_type": "code",
   "execution_count": null,
   "metadata": {},
   "outputs": [],
   "source": []
  },
  {
   "cell_type": "code",
   "execution_count": null,
   "metadata": {},
   "outputs": [],
   "source": []
  },
  {
   "cell_type": "code",
   "execution_count": null,
   "metadata": {},
   "outputs": [],
   "source": []
  }
 ],
 "metadata": {
  "kernelspec": {
   "display_name": "Python 3",
   "language": "python",
   "name": "python3"
  },
  "language_info": {
   "codemirror_mode": {
    "name": "ipython",
    "version": 3
   },
   "file_extension": ".py",
   "mimetype": "text/x-python",
   "name": "python",
   "nbconvert_exporter": "python",
   "pygments_lexer": "ipython3",
   "version": "3.7.3"
  }
 },
 "nbformat": 4,
 "nbformat_minor": 2
}
