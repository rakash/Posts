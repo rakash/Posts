{
  "nbformat": 4,
  "nbformat_minor": 0,
  "metadata": {
    "colab": {
      "name": "CIFAR with AlexNet.ipynb",
      "provenance": [],
      "collapsed_sections": []
    },
    "kernelspec": {
      "name": "python3",
      "display_name": "Python 3"
    },
    "accelerator": "GPU",
    "widgets": {
      "application/vnd.jupyter.widget-state+json": {
        "51d7346d6c074d8b90de82f1f30d2fe5": {
          "model_module": "@jupyter-widgets/controls",
          "model_name": "HBoxModel",
          "state": {
            "_view_name": "HBoxView",
            "_dom_classes": [],
            "_model_name": "HBoxModel",
            "_view_module": "@jupyter-widgets/controls",
            "_model_module_version": "1.5.0",
            "_view_count": null,
            "_view_module_version": "1.5.0",
            "box_style": "",
            "layout": "IPY_MODEL_80a681c091754a4996ed1b9361a973e4",
            "_model_module": "@jupyter-widgets/controls",
            "children": [
              "IPY_MODEL_3adbb02bb5b44cfc94844deefff3e603",
              "IPY_MODEL_3e8e3481a7f34b0baa4197b8d9589a20"
            ]
          }
        },
        "80a681c091754a4996ed1b9361a973e4": {
          "model_module": "@jupyter-widgets/base",
          "model_name": "LayoutModel",
          "state": {
            "_view_name": "LayoutView",
            "grid_template_rows": null,
            "right": null,
            "justify_content": null,
            "_view_module": "@jupyter-widgets/base",
            "overflow": null,
            "_model_module_version": "1.2.0",
            "_view_count": null,
            "flex_flow": null,
            "width": null,
            "min_width": null,
            "border": null,
            "align_items": null,
            "bottom": null,
            "_model_module": "@jupyter-widgets/base",
            "top": null,
            "grid_column": null,
            "overflow_y": null,
            "overflow_x": null,
            "grid_auto_flow": null,
            "grid_area": null,
            "grid_template_columns": null,
            "flex": null,
            "_model_name": "LayoutModel",
            "justify_items": null,
            "grid_row": null,
            "max_height": null,
            "align_content": null,
            "visibility": null,
            "align_self": null,
            "height": null,
            "min_height": null,
            "padding": null,
            "grid_auto_rows": null,
            "grid_gap": null,
            "max_width": null,
            "order": null,
            "_view_module_version": "1.2.0",
            "grid_template_areas": null,
            "object_position": null,
            "object_fit": null,
            "grid_auto_columns": null,
            "margin": null,
            "display": null,
            "left": null
          }
        },
        "3adbb02bb5b44cfc94844deefff3e603": {
          "model_module": "@jupyter-widgets/controls",
          "model_name": "FloatProgressModel",
          "state": {
            "_view_name": "ProgressView",
            "style": "IPY_MODEL_dbec24c9d3fb49ecba56710ef2e96dd1",
            "_dom_classes": [],
            "description": "",
            "_model_name": "FloatProgressModel",
            "bar_style": "info",
            "max": 1,
            "_view_module": "@jupyter-widgets/controls",
            "_model_module_version": "1.5.0",
            "value": 1,
            "_view_count": null,
            "_view_module_version": "1.5.0",
            "orientation": "horizontal",
            "min": 0,
            "description_tooltip": null,
            "_model_module": "@jupyter-widgets/controls",
            "layout": "IPY_MODEL_374ac4f4174d4799ba75c11377036cbb"
          }
        },
        "3e8e3481a7f34b0baa4197b8d9589a20": {
          "model_module": "@jupyter-widgets/controls",
          "model_name": "HTMLModel",
          "state": {
            "_view_name": "HTMLView",
            "style": "IPY_MODEL_18bee5e978b6497e9e61f99d1ef455f7",
            "_dom_classes": [],
            "description": "",
            "_model_name": "HTMLModel",
            "placeholder": "​",
            "_view_module": "@jupyter-widgets/controls",
            "_model_module_version": "1.5.0",
            "value": " 170500096/? [00:30&lt;00:00, 17520262.76it/s]",
            "_view_count": null,
            "_view_module_version": "1.5.0",
            "description_tooltip": null,
            "_model_module": "@jupyter-widgets/controls",
            "layout": "IPY_MODEL_021c4e363e9f4aaa986f9718c13aa1e7"
          }
        },
        "dbec24c9d3fb49ecba56710ef2e96dd1": {
          "model_module": "@jupyter-widgets/controls",
          "model_name": "ProgressStyleModel",
          "state": {
            "_view_name": "StyleView",
            "_model_name": "ProgressStyleModel",
            "description_width": "initial",
            "_view_module": "@jupyter-widgets/base",
            "_model_module_version": "1.5.0",
            "_view_count": null,
            "_view_module_version": "1.2.0",
            "bar_color": null,
            "_model_module": "@jupyter-widgets/controls"
          }
        },
        "374ac4f4174d4799ba75c11377036cbb": {
          "model_module": "@jupyter-widgets/base",
          "model_name": "LayoutModel",
          "state": {
            "_view_name": "LayoutView",
            "grid_template_rows": null,
            "right": null,
            "justify_content": null,
            "_view_module": "@jupyter-widgets/base",
            "overflow": null,
            "_model_module_version": "1.2.0",
            "_view_count": null,
            "flex_flow": null,
            "width": null,
            "min_width": null,
            "border": null,
            "align_items": null,
            "bottom": null,
            "_model_module": "@jupyter-widgets/base",
            "top": null,
            "grid_column": null,
            "overflow_y": null,
            "overflow_x": null,
            "grid_auto_flow": null,
            "grid_area": null,
            "grid_template_columns": null,
            "flex": null,
            "_model_name": "LayoutModel",
            "justify_items": null,
            "grid_row": null,
            "max_height": null,
            "align_content": null,
            "visibility": null,
            "align_self": null,
            "height": null,
            "min_height": null,
            "padding": null,
            "grid_auto_rows": null,
            "grid_gap": null,
            "max_width": null,
            "order": null,
            "_view_module_version": "1.2.0",
            "grid_template_areas": null,
            "object_position": null,
            "object_fit": null,
            "grid_auto_columns": null,
            "margin": null,
            "display": null,
            "left": null
          }
        },
        "18bee5e978b6497e9e61f99d1ef455f7": {
          "model_module": "@jupyter-widgets/controls",
          "model_name": "DescriptionStyleModel",
          "state": {
            "_view_name": "StyleView",
            "_model_name": "DescriptionStyleModel",
            "description_width": "",
            "_view_module": "@jupyter-widgets/base",
            "_model_module_version": "1.5.0",
            "_view_count": null,
            "_view_module_version": "1.2.0",
            "_model_module": "@jupyter-widgets/controls"
          }
        },
        "021c4e363e9f4aaa986f9718c13aa1e7": {
          "model_module": "@jupyter-widgets/base",
          "model_name": "LayoutModel",
          "state": {
            "_view_name": "LayoutView",
            "grid_template_rows": null,
            "right": null,
            "justify_content": null,
            "_view_module": "@jupyter-widgets/base",
            "overflow": null,
            "_model_module_version": "1.2.0",
            "_view_count": null,
            "flex_flow": null,
            "width": null,
            "min_width": null,
            "border": null,
            "align_items": null,
            "bottom": null,
            "_model_module": "@jupyter-widgets/base",
            "top": null,
            "grid_column": null,
            "overflow_y": null,
            "overflow_x": null,
            "grid_auto_flow": null,
            "grid_area": null,
            "grid_template_columns": null,
            "flex": null,
            "_model_name": "LayoutModel",
            "justify_items": null,
            "grid_row": null,
            "max_height": null,
            "align_content": null,
            "visibility": null,
            "align_self": null,
            "height": null,
            "min_height": null,
            "padding": null,
            "grid_auto_rows": null,
            "grid_gap": null,
            "max_width": null,
            "order": null,
            "_view_module_version": "1.2.0",
            "grid_template_areas": null,
            "object_position": null,
            "object_fit": null,
            "grid_auto_columns": null,
            "margin": null,
            "display": null,
            "left": null
          }
        }
      }
    }
  },
  "cells": [
    {
      "cell_type": "code",
      "metadata": {
        "id": "_UCmFTx1vY-v",
        "colab_type": "code",
        "colab": {}
      },
      "source": [
        "import os\n",
        "import time\n",
        "\n",
        "import numpy as np\n",
        "import pandas as pd\n",
        "\n",
        "import torch\n",
        "import torch.nn as nn\n",
        "import torch.nn.functional as F\n",
        "from torch.utils.data import DataLoader\n",
        "from torch.utils.data.dataset import Subset\n",
        "\n",
        "from torchvision import datasets\n",
        "from torchvision import transforms\n",
        "\n",
        "import matplotlib.pyplot as plt\n",
        "from PIL import Image\n",
        "\n",
        "if torch.cuda.is_available():\n",
        "    torch.backends.cudnn.deterministic = True"
      ],
      "execution_count": 1,
      "outputs": []
    },
    {
      "cell_type": "markdown",
      "metadata": {
        "id": "j9xf-FHLxgDy",
        "colab_type": "text"
      },
      "source": [
        "### Model Settings"
      ]
    },
    {
      "cell_type": "code",
      "metadata": {
        "id": "ksmhRE8Xv9om",
        "colab_type": "code",
        "colab": {}
      },
      "source": [
        "#########################\n",
        "### SETTINGS\n",
        "##########################\n",
        "\n",
        "# Hyperparameters\n",
        "RANDOM_SEED = 1\n",
        "LEARNING_RATE = 0.0001\n",
        "BATCH_SIZE = 256\n",
        "NUM_EPOCHS = 40\n",
        "\n",
        "# Architecture\n",
        "NUM_CLASSES = 10\n",
        "\n",
        "# Other\n",
        "DEVICE = \"cuda:0\""
      ],
      "execution_count": 11,
      "outputs": []
    },
    {
      "cell_type": "markdown",
      "metadata": {
        "id": "xerJGNgPyGq3",
        "colab_type": "text"
      },
      "source": [
        "### Dataset"
      ]
    },
    {
      "cell_type": "code",
      "metadata": {
        "id": "5l4HSSskv9q7",
        "colab_type": "code",
        "colab": {
          "base_uri": "https://localhost:8080/",
          "height": 83,
          "referenced_widgets": [
            "51d7346d6c074d8b90de82f1f30d2fe5",
            "80a681c091754a4996ed1b9361a973e4",
            "3adbb02bb5b44cfc94844deefff3e603",
            "3e8e3481a7f34b0baa4197b8d9589a20",
            "dbec24c9d3fb49ecba56710ef2e96dd1",
            "374ac4f4174d4799ba75c11377036cbb",
            "18bee5e978b6497e9e61f99d1ef455f7",
            "021c4e363e9f4aaa986f9718c13aa1e7"
          ]
        },
        "outputId": "0b876643-9085-450a-c7df-4c5dea3d244f"
      },
      "source": [
        "train_indices = torch.arange(0, 48000)\n",
        "valid_indices = torch.arange(48000, 50000)\n",
        "\n",
        "train_transform = transforms.Compose([transforms.Resize((70, 70)),\n",
        "                                      transforms.RandomCrop((64, 64)),\n",
        "                                      transforms.ToTensor()])\n",
        "\n",
        "test_transform = transforms.Compose([transforms.Resize((70, 70)),\n",
        "                                     transforms.CenterCrop((64, 64)),\n",
        "                                     transforms.ToTensor()])\n",
        "\n",
        "train_and_valid = datasets.CIFAR10(root='data', \n",
        "                                   train=True, \n",
        "                                   transform=train_transform,\n",
        "                                   download=True)\n",
        "\n",
        "train_dataset = Subset(train_and_valid, train_indices)\n",
        "valid_dataset = Subset(train_and_valid, valid_indices)\n",
        "\n",
        "test_dataset = datasets.CIFAR10(root='data', \n",
        "                                train=False, \n",
        "                                transform=test_transform,\n",
        "                                download=False)\n",
        "\n",
        "train_loader = DataLoader(dataset=train_dataset, \n",
        "                          batch_size=BATCH_SIZE,\n",
        "                          num_workers=4,\n",
        "                          shuffle=True)\n",
        "\n",
        "valid_loader = DataLoader(dataset=valid_dataset, \n",
        "                          batch_size=BATCH_SIZE,\n",
        "                          num_workers=4,\n",
        "                          shuffle=False)\n",
        "\n",
        "test_loader = DataLoader(dataset=test_dataset, \n",
        "                         batch_size=BATCH_SIZE,\n",
        "                         num_workers=4,\n",
        "                         shuffle=False)"
      ],
      "execution_count": 3,
      "outputs": [
        {
          "output_type": "stream",
          "text": [
            "Downloading https://www.cs.toronto.edu/~kriz/cifar-10-python.tar.gz to data/cifar-10-python.tar.gz\n"
          ],
          "name": "stdout"
        },
        {
          "output_type": "display_data",
          "data": {
            "application/vnd.jupyter.widget-view+json": {
              "model_id": "51d7346d6c074d8b90de82f1f30d2fe5",
              "version_minor": 0,
              "version_major": 2
            },
            "text/plain": [
              "HBox(children=(FloatProgress(value=1.0, bar_style='info', max=1.0), HTML(value='')))"
            ]
          },
          "metadata": {
            "tags": []
          }
        },
        {
          "output_type": "stream",
          "text": [
            "Extracting data/cifar-10-python.tar.gz to data\n"
          ],
          "name": "stdout"
        }
      ]
    },
    {
      "cell_type": "code",
      "metadata": {
        "id": "ECLCoeSnv90X",
        "colab_type": "code",
        "colab": {
          "base_uri": "https://localhost:8080/",
          "height": 221
        },
        "outputId": "055fcd4b-b14c-4f24-c1dd-ba49c088ea39"
      },
      "source": [
        "# Checking the dataset\n",
        "print('Training Set:\\n')\n",
        "for images, labels in train_loader:  \n",
        "    print('Image batch dimensions:', images.size())\n",
        "    print('Image label dimensions:', labels.size())\n",
        "    break\n",
        "    \n",
        "# Checking the dataset\n",
        "print('\\nValidation Set:')\n",
        "for images, labels in valid_loader:  \n",
        "    print('Image batch dimensions:', images.size())\n",
        "    print('Image label dimensions:', labels.size())\n",
        "    break\n",
        "\n",
        "# Checking the dataset\n",
        "print('\\nTesting Set:')\n",
        "for images, labels in train_loader:  \n",
        "    print('Image batch dimensions:', images.size())\n",
        "    print('Image label dimensions:', labels.size())\n",
        "    break"
      ],
      "execution_count": 4,
      "outputs": [
        {
          "output_type": "stream",
          "text": [
            "Training Set:\n",
            "\n",
            "Image batch dimensions: torch.Size([256, 3, 64, 64])\n",
            "Image label dimensions: torch.Size([256])\n",
            "\n",
            "Validation Set:\n",
            "Image batch dimensions: torch.Size([256, 3, 64, 64])\n",
            "Image label dimensions: torch.Size([256])\n",
            "\n",
            "Testing Set:\n",
            "Image batch dimensions: torch.Size([256, 3, 64, 64])\n",
            "Image label dimensions: torch.Size([256])\n"
          ],
          "name": "stdout"
        }
      ]
    },
    {
      "cell_type": "code",
      "metadata": {
        "id": "P_0sqXLiv98i",
        "colab_type": "code",
        "colab": {}
      },
      "source": [
        "##########################\n",
        "### MODEL\n",
        "##########################\n",
        "\n",
        "class AlexNet(nn.Module):\n",
        "\n",
        "    def __init__(self, num_classes):\n",
        "        super(AlexNet, self).__init__()\n",
        "        self.features = nn.Sequential(\n",
        "            nn.Conv2d(3, 64, kernel_size=11, stride=4, padding=2),\n",
        "            nn.ReLU(inplace=True),\n",
        "            \n",
        "            nn.MaxPool2d(kernel_size=3, stride=2),\n",
        "            nn.Conv2d(64, 192, kernel_size=5, padding=2),\n",
        "\n",
        "            nn.ReLU(inplace=True),\n",
        "            nn.MaxPool2d(kernel_size=3, stride=2),\n",
        "            \n",
        "            nn.Conv2d(192, 384, kernel_size=3, padding=1),\n",
        "            nn.ReLU(inplace=True),\n",
        "            \n",
        "            nn.Conv2d(384, 256, kernel_size=3, padding=1),\n",
        "            nn.ReLU(inplace=True),\n",
        "            \n",
        "            nn.Conv2d(256, 256, kernel_size=3, padding=1),\n",
        "            nn.ReLU(inplace=True),\n",
        "\n",
        "            nn.MaxPool2d(kernel_size=3, stride=2),\n",
        "        )\n",
        "        self.avgpool = nn.AdaptiveAvgPool2d((6, 6))\n",
        "\n",
        "        self.classifier = nn.Sequential(\n",
        "            nn.Dropout(0.5),\n",
        "            nn.Linear(256 * 6 * 6, 4096),\n",
        "            nn.ReLU(inplace=True),\n",
        "            nn.Dropout(0.5),\n",
        "            nn.Linear(4096, 4096),\n",
        "            nn.ReLU(inplace=True),\n",
        "            nn.Linear(4096, num_classes)\n",
        "        )\n",
        "\n",
        "    def forward(self, x):\n",
        "        x = self.features(x)\n",
        "        x = self.avgpool(x)\n",
        "\n",
        "        x = x.view(x.size(0), 256 * 6 * 6)\n",
        "        logits = self.classifier(x)\n",
        "        \n",
        "        probas = F.softmax(logits, dim=1)\n",
        "        return logits, probas"
      ],
      "execution_count": 5,
      "outputs": []
    },
    {
      "cell_type": "code",
      "metadata": {
        "id": "ETjkUuZ9v9_R",
        "colab_type": "code",
        "colab": {}
      },
      "source": [
        "torch.manual_seed(RANDOM_SEED)\n",
        "\n",
        "model = AlexNet(NUM_CLASSES)\n",
        "\n",
        "model.to(DEVICE)\n",
        "\n",
        "optimizer = torch.optim.Adam(model.parameters(), lr=LEARNING_RATE)  "
      ],
      "execution_count": 6,
      "outputs": []
    },
    {
      "cell_type": "markdown",
      "metadata": {
        "id": "-vXfPcGtz0FV",
        "colab_type": "text"
      },
      "source": [
        "### Training"
      ]
    },
    {
      "cell_type": "code",
      "metadata": {
        "id": "JazqaT3-zlzZ",
        "colab_type": "code",
        "colab": {
          "base_uri": "https://localhost:8080/",
          "height": 1000
        },
        "outputId": "81604b13-30ba-4a46-fb5b-5605fbeb2be8"
      },
      "source": [
        "def compute_acc(model, data_loader, device):\n",
        "    correct_pred, num_examples = 0, 0\n",
        "    model.eval()\n",
        "    for i, (features, targets) in enumerate(data_loader):\n",
        "            \n",
        "        features = features.to(device)\n",
        "        targets = targets.to(device)\n",
        "\n",
        "        logits, probas = model(features)\n",
        "        _, predicted_labels = torch.max(probas, 1)\n",
        "        num_examples += targets.size(0)\n",
        "        assert predicted_labels.size() == targets.size()\n",
        "        correct_pred += (predicted_labels == targets).sum()\n",
        "    return correct_pred.float()/num_examples * 100\n",
        "    \n",
        "\n",
        "start_time = time.time()\n",
        "\n",
        "cost_list = []\n",
        "train_acc_list, valid_acc_list = [], []\n",
        "\n",
        "\n",
        "for epoch in range(NUM_EPOCHS):\n",
        "    \n",
        "    model.train()\n",
        "    for batch_idx, (features, targets) in enumerate(train_loader):\n",
        "        \n",
        "        features = features.to(DEVICE)\n",
        "        targets = targets.to(DEVICE)\n",
        "            \n",
        "        ### FORWARD AND BACK PROP\n",
        "        logits, probas = model(features)\n",
        "        cost = F.cross_entropy(logits, targets)\n",
        "        optimizer.zero_grad()\n",
        "        \n",
        "        cost.backward()\n",
        "        \n",
        "        ### UPDATE MODEL PARAMETERS\n",
        "        optimizer.step()\n",
        "        \n",
        "        #################################################\n",
        "        ### CODE ONLY FOR LOGGING BEYOND THIS POINT\n",
        "        ################################################\n",
        "        cost_list.append(cost.item())\n",
        "        if not batch_idx % 150:\n",
        "            print (f'Epoch: {epoch+1:03d}/{NUM_EPOCHS:03d} | '\n",
        "                   f'Batch {batch_idx:03d}/{len(train_loader):03d} |' \n",
        "                   f' Cost: {cost:.4f}')\n",
        "\n",
        "        \n",
        "\n",
        "    model.eval()\n",
        "    with torch.set_grad_enabled(False): # save memory during inference\n",
        "        \n",
        "        train_acc = compute_acc(model, train_loader, device=DEVICE)\n",
        "        valid_acc = compute_acc(model, valid_loader, device=DEVICE)\n",
        "        \n",
        "        print(f'Epoch: {epoch+1:03d}/{NUM_EPOCHS:03d}\\n'\n",
        "              f'Train ACC: {train_acc:.2f} | Validation ACC: {valid_acc:.2f}')\n",
        "        \n",
        "        train_acc_list.append(train_acc)\n",
        "        valid_acc_list.append(valid_acc)\n",
        "        \n",
        "    elapsed = (time.time() - start_time)/60\n",
        "    print(f'Time elapsed: {elapsed:.2f} min')\n",
        "  \n",
        "elapsed = (time.time() - start_time)/60\n",
        "print(f'Total Training Time: {elapsed:.2f} min')"
      ],
      "execution_count": 7,
      "outputs": [
        {
          "output_type": "stream",
          "text": [
            "Epoch: 001/040 | Batch 000/188 | Cost: 2.3030\n",
            "Epoch: 001/040 | Batch 150/188 | Cost: 1.7235\n",
            "Epoch: 001/040\n",
            "Train ACC: 28.72 | Validation ACC: 28.70\n",
            "Time elapsed: 0.48 min\n",
            "Epoch: 002/040 | Batch 000/188 | Cost: 1.7796\n",
            "Epoch: 002/040 | Batch 150/188 | Cost: 1.4880\n",
            "Epoch: 002/040\n",
            "Train ACC: 43.75 | Validation ACC: 44.30\n",
            "Time elapsed: 0.97 min\n",
            "Epoch: 003/040 | Batch 000/188 | Cost: 1.4848\n",
            "Epoch: 003/040 | Batch 150/188 | Cost: 1.4518\n",
            "Epoch: 003/040\n",
            "Train ACC: 50.78 | Validation ACC: 51.10\n",
            "Time elapsed: 1.45 min\n",
            "Epoch: 004/040 | Batch 000/188 | Cost: 1.4071\n",
            "Epoch: 004/040 | Batch 150/188 | Cost: 1.2149\n",
            "Epoch: 004/040\n",
            "Train ACC: 58.68 | Validation ACC: 58.40\n",
            "Time elapsed: 1.93 min\n",
            "Epoch: 005/040 | Batch 000/188 | Cost: 1.0640\n",
            "Epoch: 005/040 | Batch 150/188 | Cost: 1.1300\n",
            "Epoch: 005/040\n",
            "Train ACC: 59.37 | Validation ACC: 58.45\n",
            "Time elapsed: 2.41 min\n",
            "Epoch: 006/040 | Batch 000/188 | Cost: 1.0702\n",
            "Epoch: 006/040 | Batch 150/188 | Cost: 1.1017\n",
            "Epoch: 006/040\n",
            "Train ACC: 62.35 | Validation ACC: 61.80\n",
            "Time elapsed: 2.90 min\n",
            "Epoch: 007/040 | Batch 000/188 | Cost: 1.0084\n",
            "Epoch: 007/040 | Batch 150/188 | Cost: 1.1091\n",
            "Epoch: 007/040\n",
            "Train ACC: 65.57 | Validation ACC: 63.30\n",
            "Time elapsed: 3.38 min\n",
            "Epoch: 008/040 | Batch 000/188 | Cost: 1.0291\n",
            "Epoch: 008/040 | Batch 150/188 | Cost: 0.9582\n",
            "Epoch: 008/040\n",
            "Train ACC: 64.24 | Validation ACC: 63.10\n",
            "Time elapsed: 3.86 min\n",
            "Epoch: 009/040 | Batch 000/188 | Cost: 1.0014\n",
            "Epoch: 009/040 | Batch 150/188 | Cost: 0.8102\n",
            "Epoch: 009/040\n",
            "Train ACC: 69.01 | Validation ACC: 65.75\n",
            "Time elapsed: 4.34 min\n",
            "Epoch: 010/040 | Batch 000/188 | Cost: 0.8006\n",
            "Epoch: 010/040 | Batch 150/188 | Cost: 0.7754\n",
            "Epoch: 010/040\n",
            "Train ACC: 71.59 | Validation ACC: 66.85\n",
            "Time elapsed: 4.82 min\n",
            "Epoch: 011/040 | Batch 000/188 | Cost: 0.8415\n",
            "Epoch: 011/040 | Batch 150/188 | Cost: 0.8306\n",
            "Epoch: 011/040\n",
            "Train ACC: 71.34 | Validation ACC: 67.35\n",
            "Time elapsed: 5.30 min\n",
            "Epoch: 012/040 | Batch 000/188 | Cost: 0.7324\n",
            "Epoch: 012/040 | Batch 150/188 | Cost: 0.8526\n",
            "Epoch: 012/040\n",
            "Train ACC: 75.00 | Validation ACC: 67.35\n",
            "Time elapsed: 5.78 min\n",
            "Epoch: 013/040 | Batch 000/188 | Cost: 0.6545\n",
            "Epoch: 013/040 | Batch 150/188 | Cost: 0.7540\n",
            "Epoch: 013/040\n",
            "Train ACC: 77.53 | Validation ACC: 70.75\n",
            "Time elapsed: 6.26 min\n",
            "Epoch: 014/040 | Batch 000/188 | Cost: 0.6511\n",
            "Epoch: 014/040 | Batch 150/188 | Cost: 0.6472\n",
            "Epoch: 014/040\n",
            "Train ACC: 77.78 | Validation ACC: 70.60\n",
            "Time elapsed: 6.74 min\n",
            "Epoch: 015/040 | Batch 000/188 | Cost: 0.5790\n",
            "Epoch: 015/040 | Batch 150/188 | Cost: 0.8906\n",
            "Epoch: 015/040\n",
            "Train ACC: 79.49 | Validation ACC: 71.85\n",
            "Time elapsed: 7.22 min\n",
            "Epoch: 016/040 | Batch 000/188 | Cost: 0.7158\n",
            "Epoch: 016/040 | Batch 150/188 | Cost: 0.5696\n",
            "Epoch: 016/040\n",
            "Train ACC: 81.18 | Validation ACC: 72.20\n",
            "Time elapsed: 7.70 min\n",
            "Epoch: 017/040 | Batch 000/188 | Cost: 0.5305\n",
            "Epoch: 017/040 | Batch 150/188 | Cost: 0.5448\n",
            "Epoch: 017/040\n",
            "Train ACC: 83.05 | Validation ACC: 72.60\n",
            "Time elapsed: 8.18 min\n",
            "Epoch: 018/040 | Batch 000/188 | Cost: 0.5471\n",
            "Epoch: 018/040 | Batch 150/188 | Cost: 0.4856\n",
            "Epoch: 018/040\n",
            "Train ACC: 82.31 | Validation ACC: 70.65\n",
            "Time elapsed: 8.67 min\n",
            "Epoch: 019/040 | Batch 000/188 | Cost: 0.5130\n",
            "Epoch: 019/040 | Batch 150/188 | Cost: 0.4648\n",
            "Epoch: 019/040\n",
            "Train ACC: 84.70 | Validation ACC: 72.95\n",
            "Time elapsed: 9.14 min\n",
            "Epoch: 020/040 | Batch 000/188 | Cost: 0.4436\n",
            "Epoch: 020/040 | Batch 150/188 | Cost: 0.3826\n",
            "Epoch: 020/040\n",
            "Train ACC: 85.10 | Validation ACC: 73.40\n",
            "Time elapsed: 9.62 min\n",
            "Epoch: 021/040 | Batch 000/188 | Cost: 0.5019\n",
            "Epoch: 021/040 | Batch 150/188 | Cost: 0.5009\n",
            "Epoch: 021/040\n",
            "Train ACC: 86.71 | Validation ACC: 73.35\n",
            "Time elapsed: 10.11 min\n",
            "Epoch: 022/040 | Batch 000/188 | Cost: 0.3654\n",
            "Epoch: 022/040 | Batch 150/188 | Cost: 0.3572\n",
            "Epoch: 022/040\n",
            "Train ACC: 88.48 | Validation ACC: 72.90\n",
            "Time elapsed: 10.59 min\n",
            "Epoch: 023/040 | Batch 000/188 | Cost: 0.2970\n",
            "Epoch: 023/040 | Batch 150/188 | Cost: 0.4558\n",
            "Epoch: 023/040\n",
            "Train ACC: 88.08 | Validation ACC: 72.25\n",
            "Time elapsed: 11.06 min\n",
            "Epoch: 024/040 | Batch 000/188 | Cost: 0.3317\n",
            "Epoch: 024/040 | Batch 150/188 | Cost: 0.4470\n",
            "Epoch: 024/040\n",
            "Train ACC: 89.31 | Validation ACC: 72.30\n",
            "Time elapsed: 11.54 min\n",
            "Epoch: 025/040 | Batch 000/188 | Cost: 0.2686\n",
            "Epoch: 025/040 | Batch 150/188 | Cost: 0.3437\n",
            "Epoch: 025/040\n",
            "Train ACC: 89.58 | Validation ACC: 72.50\n",
            "Time elapsed: 12.02 min\n",
            "Epoch: 026/040 | Batch 000/188 | Cost: 0.2869\n",
            "Epoch: 026/040 | Batch 150/188 | Cost: 0.3581\n",
            "Epoch: 026/040\n",
            "Train ACC: 90.81 | Validation ACC: 72.70\n",
            "Time elapsed: 12.50 min\n",
            "Epoch: 027/040 | Batch 000/188 | Cost: 0.2944\n",
            "Epoch: 027/040 | Batch 150/188 | Cost: 0.4137\n",
            "Epoch: 027/040\n",
            "Train ACC: 93.20 | Validation ACC: 73.65\n",
            "Time elapsed: 12.98 min\n",
            "Epoch: 028/040 | Batch 000/188 | Cost: 0.2423\n",
            "Epoch: 028/040 | Batch 150/188 | Cost: 0.2782\n",
            "Epoch: 028/040\n",
            "Train ACC: 93.34 | Validation ACC: 71.65\n",
            "Time elapsed: 13.46 min\n",
            "Epoch: 029/040 | Batch 000/188 | Cost: 0.1574\n",
            "Epoch: 029/040 | Batch 150/188 | Cost: 0.2252\n",
            "Epoch: 029/040\n",
            "Train ACC: 91.40 | Validation ACC: 71.75\n",
            "Time elapsed: 13.94 min\n",
            "Epoch: 030/040 | Batch 000/188 | Cost: 0.1659\n",
            "Epoch: 030/040 | Batch 150/188 | Cost: 0.2617\n",
            "Epoch: 030/040\n",
            "Train ACC: 94.20 | Validation ACC: 73.25\n",
            "Time elapsed: 14.41 min\n",
            "Epoch: 031/040 | Batch 000/188 | Cost: 0.2476\n",
            "Epoch: 031/040 | Batch 150/188 | Cost: 0.1594\n",
            "Epoch: 031/040\n",
            "Train ACC: 94.63 | Validation ACC: 72.90\n",
            "Time elapsed: 14.89 min\n",
            "Epoch: 032/040 | Batch 000/188 | Cost: 0.1984\n",
            "Epoch: 032/040 | Batch 150/188 | Cost: 0.2439\n",
            "Epoch: 032/040\n",
            "Train ACC: 94.79 | Validation ACC: 72.65\n",
            "Time elapsed: 15.37 min\n",
            "Epoch: 033/040 | Batch 000/188 | Cost: 0.1363\n",
            "Epoch: 033/040 | Batch 150/188 | Cost: 0.1643\n",
            "Epoch: 033/040\n",
            "Train ACC: 95.11 | Validation ACC: 73.25\n",
            "Time elapsed: 15.84 min\n",
            "Epoch: 034/040 | Batch 000/188 | Cost: 0.1916\n",
            "Epoch: 034/040 | Batch 150/188 | Cost: 0.1369\n",
            "Epoch: 034/040\n",
            "Train ACC: 96.21 | Validation ACC: 73.90\n",
            "Time elapsed: 16.32 min\n",
            "Epoch: 035/040 | Batch 000/188 | Cost: 0.1369\n",
            "Epoch: 035/040 | Batch 150/188 | Cost: 0.1307\n",
            "Epoch: 035/040\n",
            "Train ACC: 95.92 | Validation ACC: 73.10\n",
            "Time elapsed: 16.80 min\n",
            "Epoch: 036/040 | Batch 000/188 | Cost: 0.0857\n",
            "Epoch: 036/040 | Batch 150/188 | Cost: 0.0866\n",
            "Epoch: 036/040\n",
            "Train ACC: 95.83 | Validation ACC: 72.55\n",
            "Time elapsed: 17.28 min\n",
            "Epoch: 037/040 | Batch 000/188 | Cost: 0.1105\n",
            "Epoch: 037/040 | Batch 150/188 | Cost: 0.1842\n",
            "Epoch: 037/040\n",
            "Train ACC: 96.71 | Validation ACC: 73.85\n",
            "Time elapsed: 17.76 min\n",
            "Epoch: 038/040 | Batch 000/188 | Cost: 0.0944\n",
            "Epoch: 038/040 | Batch 150/188 | Cost: 0.1266\n",
            "Epoch: 038/040\n",
            "Train ACC: 97.09 | Validation ACC: 72.95\n",
            "Time elapsed: 18.25 min\n",
            "Epoch: 039/040 | Batch 000/188 | Cost: 0.0754\n",
            "Epoch: 039/040 | Batch 150/188 | Cost: 0.1098\n",
            "Epoch: 039/040\n",
            "Train ACC: 95.70 | Validation ACC: 71.35\n",
            "Time elapsed: 18.73 min\n",
            "Epoch: 040/040 | Batch 000/188 | Cost: 0.1073\n",
            "Epoch: 040/040 | Batch 150/188 | Cost: 0.1825\n",
            "Epoch: 040/040\n",
            "Train ACC: 97.11 | Validation ACC: 72.55\n",
            "Time elapsed: 19.22 min\n",
            "Total Training Time: 19.22 min\n"
          ],
          "name": "stdout"
        }
      ]
    },
    {
      "cell_type": "markdown",
      "metadata": {
        "id": "D_B_ClNn0ATd",
        "colab_type": "text"
      },
      "source": [
        "### Evaluation"
      ]
    },
    {
      "cell_type": "code",
      "metadata": {
        "id": "pAI-4UbYzl5K",
        "colab_type": "code",
        "colab": {
          "base_uri": "https://localhost:8080/",
          "height": 279
        },
        "outputId": "b7c7f67f-f2d9-44f9-bbeb-1ef49c15f41c"
      },
      "source": [
        "import matplotlib.pyplot as plt\n",
        "%matplotlib inline\n",
        "\n",
        "plt.plot(cost_list, label='Minibatch cost')\n",
        "plt.plot(np.convolve(cost_list, \n",
        "                     np.ones(200,)/200, mode='valid'), \n",
        "         label='Running average')\n",
        "\n",
        "plt.ylabel('Cross Entropy')\n",
        "plt.xlabel('Iteration')\n",
        "plt.legend()\n",
        "plt.show()"
      ],
      "execution_count": 8,
      "outputs": [
        {
          "output_type": "display_data",
          "data": {
            "image/png": "[encoded data removed]",
            "text/plain": [
              "<Figure size 432x288 with 1 Axes>"
            ]
          },
          "metadata": {
            "tags": [],
            "needs_background": "light"
          }
        }
      ]
    },
    {
      "cell_type": "code",
      "metadata": {
        "id": "NuvPjZ2kz_UY",
        "colab_type": "code",
        "colab": {
          "base_uri": "https://localhost:8080/",
          "height": 282
        },
        "outputId": "67b981f9-7566-4090-a9f3-d44879be674b"
      },
      "source": [
        "plt.plot(np.arange(1, NUM_EPOCHS+1), train_acc_list, label='Training')\n",
        "plt.plot(np.arange(1, NUM_EPOCHS+1), valid_acc_list, label='Validation')\n",
        "\n",
        "plt.xlabel('Epoch')\n",
        "plt.ylabel('Accuracy')\n",
        "plt.legend()\n",
        "plt.show()"
      ],
      "execution_count": 9,
      "outputs": [
        {
          "output_type": "display_data",
          "data": {
            "image/png": "[encoded data removed]",
            "text/plain": [
              "<Figure size 432x288 with 1 Axes>"
            ]
          },
          "metadata": {
            "tags": [],
            "needs_background": "light"
          }
        }
      ]
    },
    {
      "cell_type": "code",
      "metadata": {
        "id": "GxXwtADez_XV",
        "colab_type": "code",
        "colab": {
          "base_uri": "https://localhost:8080/",
          "height": 51
        },
        "outputId": "9b722586-3fc1-4f7a-e70b-118ab3386cef"
      },
      "source": [
        "with torch.set_grad_enabled(False):\n",
        "    test_acc = compute_acc(model=model,\n",
        "                           data_loader=test_loader,\n",
        "                           device=DEVICE)\n",
        "    \n",
        "    valid_acc = compute_acc(model=model,\n",
        "                            data_loader=valid_loader,\n",
        "                            device=DEVICE)\n",
        "    \n",
        "\n",
        "print(f'Validation ACC: {valid_acc:.2f}%')\n",
        "print(f'Test ACC: {test_acc:.2f}%')"
      ],
      "execution_count": 10,
      "outputs": [
        {
          "output_type": "stream",
          "text": [
            "Validation ACC: 73.45%\n",
            "Test ACC: 73.28%\n"
          ],
          "name": "stdout"
        }
      ]
    }
  ]
}